{
 "cells": [
  {
   "cell_type": "markdown",
   "id": "e3f4ce80-180b-434e-8afb-8e955a02a872",
   "metadata": {},
   "source": [
    "## **Handling of Near-Duplicates**\n",
    "\n",
    "In social media data analysis, particularly when using Twitter for trend discovery related to additive manufacturing (AM), handling redundant content is critical. Tweets are frequently duplicated, paraphrased, or retweeted with slight modifications. These near-duplicate posts can skew trend detection and inflate topic frequency metrics, ultimately introducing bias into large language model (LLM) responses. Furthermore, when LLM APIs are used in a paid setting, submitting repetitive data leads to unnecessary cost and processing overhead.\n",
    "\n",
    "To mitigate this, a near-duplicate detection pipeline is implemented to retain only representative tweets per semantic cluster. This approach ensures **semantic diversity**, reduces **computational cost**, and improves the **accuracy of trend extraction** from tweet corpora.\n",
    "\n",
    "---\n",
    "\n",
    "### **Theoretical Background**\n",
    "\n",
    "#### **1. Jaccard Similarity**\n",
    "\n",
    "Jaccard similarity is a measure of the overlap between two sets, defined as:\n",
    "$\n",
    "J(A, B) = \\frac{|A \\cap B|}{|A \\cup B|}\n",
    "$\n",
    "\n",
    "It has been widely used for detecting document similarity, particularly in bag-of-words or token-based models [Manning, Raghavan, & Schütze, 2008]\n",
    "> 🔹 **Key reference**: \n",
    "> Manning, C. D., Raghavan, P., & Schütze, H. (2008). Introduction to Information Retrieval. Cambridge University Press\n",
    "\n",
    "#### **2. MinHashing**\n",
    "\n",
    "MinHash is a probabilistic technique for estimating Jaccard similarity between sets efficiently. Rather than computing the actual intersection and union of sets (which can be costly for large corpora), MinHash represents each set with a fixed-length signature generated through hash functions. The similarity between two MinHash signatures approximates the Jaccard similarity between the original sets.\n",
    "\n",
    "MinHash was introduced by **Broder (1997)** at AltaVista for detecting near-duplicate web pages, and later refined in [Broder et al., 2000].\n",
    "\n",
    "> 🔹 **Key reference**:  \n",
    "> Broder, A. Z. (1997). *On the resemblance and containment of documents*. Proceedings. Compression and Complexity of SEQUENCES 1997.  \n",
    "> Broder, A. Z., Charikar, M., Frieze, A. M., & Mitzenmacher, M. (2000). *Min-wise independent permutations*. Journal of Computer and System Sciences, 60(3), 630–659.\n",
    "\n",
    "#### **3. Locality Sensitive Hashing (LSH)**\n",
    "\n",
    "LSH is a method for indexing high-dimensional data that allows similar items to be hashed into the same \"buckets\" with high probability. When combined with MinHash, LSH enables **sub-linear time** similarity search over large text corpora [Indyk & Motwani, 1998].\n",
    "\n",
    "> 🔹 **Key reference**:  \n",
    "> Indyk, P., & Motwani, R. (1998). *Approximate nearest neighbors: Towards removing the curse of dimensionality*. Proceedings of the thirtieth annual ACM symposium on Theory of computing.\n",
    "\n",
    "LSH is particularly effective in high-volume tweet streams, where full pairwise similarity comparisons are computationally infeasible.\n",
    "\n",
    "#### **4. Applications in NLP and Social Media Analytics**\n",
    "\n",
    "Near-duplicate detection using MinHash and LSH has been successfully applied in:\n",
    "- Social media deduplication [Petrovic et al., 2010]\n",
    "- Scalable document clustering [Rajaraman & Ullman, 2014]\n",
    "- Spam detection and topic tracking [Leskovec et al., 2014]\n",
    "\n",
    "> 🔹 **Further references**:  \n",
    "> Petrovic, S., Osborne, M., & Lavrenko, V. (2010). *Streaming first story detection with application to Twitter*. NAACL.  \n",
    "> Rajaraman, A., & Ullman, J. D. (2014). *Mining of Massive Datasets*. Cambridge University Press.  \n",
    "> Leskovec, J., Rajaraman, A., & Ullman, J. D. (2014). *Mining of Massive Datasets*, 2nd ed.\n",
    "\n",
    "---\n",
    "\n",
    "### **Implementation Overview**\n",
    "\n",
    "The deduplication process applied in this work consists of the following steps:\n",
    "\n",
    "1. **Tokenization**  \n",
    "   Each tweet is converted to lowercase and tokenized into a set of words using whitespace separation.\n",
    "\n",
    "2. **Signature Generation (MinHash)**  \n",
    "   A MinHash signature is created for each token set using multiple permutations (e.g., 128 or 256) to balance accuracy and speed.\n",
    "\n",
    "3. **Similarity Indexing (LSH)**  \n",
    "   The MinHash signatures are inserted into an LSH index that groups similar tweets by approximate Jaccard similarity.\n",
    "\n",
    "4. **Duplicate Group Extraction**  \n",
    "   Near-duplicate pairs are identified based on a similarity threshold (e.g., Jaccard ≥ 0.7) and grouped into connected components (clusters).\n",
    "\n",
    "5. **Representative Tweet Selection**  \n",
    "   Within each cluster, only the tweet with the highest engagement (likes, retweets, replies) is retained.\n",
    "\n",
    "6. **Network Visualization**  \n",
    "   A graph is constructed where nodes represent tweets and edges represent duplicate relationships. Nodes are colored by cluster, and annotated by dataset index for reference.\n",
    "\n",
    "---\n",
    "\n",
    "### **Purpose and Benefits**\n",
    "\n",
    "This method ensures that:\n",
    "- **Only unique, high-quality tweets** are passed to the LLM.\n",
    "- **Topic models and trend analyses** are not skewed by repetition.\n",
    "- **API cost is minimized** by reducing redundant input.\n",
    "\n",
    "By integrating this preprocessing step, the pipeline achieves **scalability**, **semantic efficiency**, and **economic viability** for trend analysis tasks in AM-related discourse on social media.\n"
   ]
  },
  {
   "cell_type": "code",
   "execution_count": 3,
   "id": "869508e8-0a13-48ce-95d0-9db85251ac72",
   "metadata": {},
   "outputs": [
    {
     "data": {
      "text/plain": [
       "0"
      ]
     },
     "execution_count": 3,
     "metadata": {},
     "output_type": "execute_result"
    }
   ],
   "source": [
    "import gc\n",
    "gc.collect()"
   ]
  },
  {
   "cell_type": "code",
   "execution_count": 4,
   "id": "86dff706-ed95-45cf-b2a5-f228647d4c75",
   "metadata": {},
   "outputs": [],
   "source": [
    "from datasketch import MinHash, MinHashLSH\n",
    "from tqdm.notebook import tqdm\n",
    "import pandas as pd\n",
    "import re\n",
    "from am_sma_data_cleaning.utils import remove_spammers,tokenize,find_near_duplicates_parallel,remove_duplicates_keep_highest_engagement,plot_simplified_duplicate_network\n",
    "pd.set_option('display.max_colwidth', None)"
   ]
  },
  {
   "cell_type": "code",
   "execution_count": 5,
   "id": "b6df3b28-fd41-43cc-8322-12fe94d69b42",
   "metadata": {},
   "outputs": [
    {
     "data": {
      "text/html": [
       "<div>\n",
       "<style scoped>\n",
       "    .dataframe tbody tr th:only-of-type {\n",
       "        vertical-align: middle;\n",
       "    }\n",
       "\n",
       "    .dataframe tbody tr th {\n",
       "        vertical-align: top;\n",
       "    }\n",
       "\n",
       "    .dataframe thead th {\n",
       "        text-align: right;\n",
       "    }\n",
       "</style>\n",
       "<table border=\"1\" class=\"dataframe\">\n",
       "  <thead>\n",
       "    <tr style=\"text-align: right;\">\n",
       "      <th></th>\n",
       "      <th>Author ID</th>\n",
       "      <th>Total Engagement</th>\n",
       "      <th>Date</th>\n",
       "      <th>tweet_id</th>\n",
       "      <th>row_num</th>\n",
       "      <th>Normalized Text</th>\n",
       "      <th>langdetect_is_english</th>\n",
       "    </tr>\n",
       "  </thead>\n",
       "  <tbody>\n",
       "    <tr>\n",
       "      <th>0</th>\n",
       "      <td>@Bill_Gross</td>\n",
       "      <td>439944</td>\n",
       "      <td>2017-10-17 21:48:10+00:00</td>\n",
       "      <td>@Bill_Gross_2017-10-17T21:48:10.000Z</td>\n",
       "      <td>1399480</td>\n",
       "      <td>in the \"i'm getting old\" department.., a kid saw this and said, \"oh, you 3d-printed the 'save' icon.\"</td>\n",
       "      <td>True</td>\n",
       "    </tr>\n",
       "    <tr>\n",
       "      <th>1</th>\n",
       "      <td>@rustbeltlady</td>\n",
       "      <td>383384</td>\n",
       "      <td>2019-03-08 04:41:13+00:00</td>\n",
       "      <td>@rustbeltlady_2019-03-08T04:41:13.000Z</td>\n",
       "      <td>2703961</td>\n",
       "      <td>who gave my little brother a 3d printer</td>\n",
       "      <td>True</td>\n",
       "    </tr>\n",
       "    <tr>\n",
       "      <th>2</th>\n",
       "      <td>@McJesse</td>\n",
       "      <td>348608</td>\n",
       "      <td>2021-12-31 00:34:14+00:00</td>\n",
       "      <td>@McJesse_2021-12-31T00:34:14.000Z</td>\n",
       "      <td>2887953</td>\n",
       "      <td>got a 3d printer for christmas, realized i can use it to print any new year’s glasses i want.</td>\n",
       "      <td>True</td>\n",
       "    </tr>\n",
       "    <tr>\n",
       "      <th>3</th>\n",
       "      <td>@olivelorraine_</td>\n",
       "      <td>283017</td>\n",
       "      <td>2021-08-15 20:47:32+00:00</td>\n",
       "      <td>@olivelorraine__2021-08-15T20:47:32.000Z</td>\n",
       "      <td>2963114</td>\n",
       "      <td>the vagina is the original 3d printer</td>\n",
       "      <td>True</td>\n",
       "    </tr>\n",
       "    <tr>\n",
       "      <th>4</th>\n",
       "      <td>@rveenewman</td>\n",
       "      <td>213595</td>\n",
       "      <td>2019-01-09 13:25:07+00:00</td>\n",
       "      <td>@rveenewman_2019-01-09T13:25:07.000Z</td>\n",
       "      <td>2447524</td>\n",
       "      <td>a 3d printed light projected animation. proof that there's always new ways to animate everything. #3dprint #animation</td>\n",
       "      <td>True</td>\n",
       "    </tr>\n",
       "    <tr>\n",
       "      <th>...</th>\n",
       "      <td>...</td>\n",
       "      <td>...</td>\n",
       "      <td>...</td>\n",
       "      <td>...</td>\n",
       "      <td>...</td>\n",
       "      <td>...</td>\n",
       "      <td>...</td>\n",
       "    </tr>\n",
       "    <tr>\n",
       "      <th>3922033</th>\n",
       "      <td>@BramKnaapen</td>\n",
       "      <td>0</td>\n",
       "      <td>2013-11-03 21:51:10+00:00</td>\n",
       "      <td>@BramKnaapen_2013-11-03T21:51:10.000Z</td>\n",
       "      <td>5849490</td>\n",
       "      <td>customizable 3d printed titanium glasses that look good; 3d printing is moving beyond gadgetry : http://</td>\n",
       "      <td>True</td>\n",
       "    </tr>\n",
       "    <tr>\n",
       "      <th>3922034</th>\n",
       "      <td>@SybilCollas</td>\n",
       "      <td>0</td>\n",
       "      <td>2014-01-17 15:31:11+00:00</td>\n",
       "      <td>@SybilCollas_2014-01-17T15:31:11.000Z</td>\n",
       "      <td>5178014</td>\n",
       "      <td>customizable 3d printed tabletop miniatures. oh money, where are you when i need you so? http:// via @kickstarter</td>\n",
       "      <td>True</td>\n",
       "    </tr>\n",
       "    <tr>\n",
       "      <th>3922035</th>\n",
       "      <td>@davebower</td>\n",
       "      <td>0</td>\n",
       "      <td>2014-01-16 20:40:39+00:00</td>\n",
       "      <td>@davebower_2014-01-16T20:40:39.000Z</td>\n",
       "      <td>5383868</td>\n",
       "      <td>customizable 3d printed tabletop miniatures. hmmmm. http:// orge/customizable-3d-printed-tabletop-miniatures ...</td>\n",
       "      <td>True</td>\n",
       "    </tr>\n",
       "    <tr>\n",
       "      <th>3922036</th>\n",
       "      <td>@SethRichard</td>\n",
       "      <td>0</td>\n",
       "      <td>2014-02-16 05:21:51+00:00</td>\n",
       "      <td>@SethRichard_2014-02-16T05:21:51.000Z</td>\n",
       "      <td>5550420</td>\n",
       "      <td>customizable 3d printed tabletop miniatures, via @kickstarter only 46 hours left to back it https:// orge/customizable-3d-printed-tabletop-miniatures ...</td>\n",
       "      <td>True</td>\n",
       "    </tr>\n",
       "    <tr>\n",
       "      <th>3922037</th>\n",
       "      <td>@CHANGEBE</td>\n",
       "      <td>0</td>\n",
       "      <td>2016-05-30 17:01:00+00:00</td>\n",
       "      <td>@CHANGEBE_2016-05-30T17:01:00.000Z</td>\n",
       "      <td>1768900</td>\n",
       "      <td>󾮞 injured tortoise receives world’s first 3d printed shell when freddy the tortoise was caught in a bush fire in... http://</td>\n",
       "      <td>True</td>\n",
       "    </tr>\n",
       "  </tbody>\n",
       "</table>\n",
       "<p>3922038 rows × 7 columns</p>\n",
       "</div>"
      ],
      "text/plain": [
       "               Author ID  Total Engagement                       Date  \\\n",
       "0            @Bill_Gross            439944  2017-10-17 21:48:10+00:00   \n",
       "1          @rustbeltlady            383384  2019-03-08 04:41:13+00:00   \n",
       "2               @McJesse            348608  2021-12-31 00:34:14+00:00   \n",
       "3        @olivelorraine_            283017  2021-08-15 20:47:32+00:00   \n",
       "4            @rveenewman            213595  2019-01-09 13:25:07+00:00   \n",
       "...                  ...               ...                        ...   \n",
       "3922033     @BramKnaapen                 0  2013-11-03 21:51:10+00:00   \n",
       "3922034     @SybilCollas                 0  2014-01-17 15:31:11+00:00   \n",
       "3922035       @davebower                 0  2014-01-16 20:40:39+00:00   \n",
       "3922036     @SethRichard                 0  2014-02-16 05:21:51+00:00   \n",
       "3922037        @CHANGEBE                 0  2016-05-30 17:01:00+00:00   \n",
       "\n",
       "                                         tweet_id  row_num  \\\n",
       "0            @Bill_Gross_2017-10-17T21:48:10.000Z  1399480   \n",
       "1          @rustbeltlady_2019-03-08T04:41:13.000Z  2703961   \n",
       "2               @McJesse_2021-12-31T00:34:14.000Z  2887953   \n",
       "3        @olivelorraine__2021-08-15T20:47:32.000Z  2963114   \n",
       "4            @rveenewman_2019-01-09T13:25:07.000Z  2447524   \n",
       "...                                           ...      ...   \n",
       "3922033     @BramKnaapen_2013-11-03T21:51:10.000Z  5849490   \n",
       "3922034     @SybilCollas_2014-01-17T15:31:11.000Z  5178014   \n",
       "3922035       @davebower_2014-01-16T20:40:39.000Z  5383868   \n",
       "3922036     @SethRichard_2014-02-16T05:21:51.000Z  5550420   \n",
       "3922037        @CHANGEBE_2016-05-30T17:01:00.000Z  1768900   \n",
       "\n",
       "                                                                                                                                                   Normalized Text  \\\n",
       "0                                                            in the \"i'm getting old\" department.., a kid saw this and said, \"oh, you 3d-printed the 'save' icon.\"   \n",
       "1                                                                                                                          who gave my little brother a 3d printer   \n",
       "2                                                                    got a 3d printer for christmas, realized i can use it to print any new year’s glasses i want.   \n",
       "3                                                                                                                            the vagina is the original 3d printer   \n",
       "4                                            a 3d printed light projected animation. proof that there's always new ways to animate everything. #3dprint #animation   \n",
       "...                                                                                                                                                            ...   \n",
       "3922033                                                   customizable 3d printed titanium glasses that look good; 3d printing is moving beyond gadgetry : http://   \n",
       "3922034                                          customizable 3d printed tabletop miniatures. oh money, where are you when i need you so? http:// via @kickstarter   \n",
       "3922035                                           customizable 3d printed tabletop miniatures. hmmmm. http:// orge/customizable-3d-printed-tabletop-miniatures ...   \n",
       "3922036  customizable 3d printed tabletop miniatures, via @kickstarter only 46 hours left to back it https:// orge/customizable-3d-printed-tabletop-miniatures ...   \n",
       "3922037                                󾮞 injured tortoise receives world’s first 3d printed shell when freddy the tortoise was caught in a bush fire in... http://   \n",
       "\n",
       "         langdetect_is_english  \n",
       "0                         True  \n",
       "1                         True  \n",
       "2                         True  \n",
       "3                         True  \n",
       "4                         True  \n",
       "...                        ...  \n",
       "3922033                   True  \n",
       "3922034                   True  \n",
       "3922035                   True  \n",
       "3922036                   True  \n",
       "3922037                   True  \n",
       "\n",
       "[3922038 rows x 7 columns]"
      ]
     },
     "execution_count": 5,
     "metadata": {},
     "output_type": "execute_result"
    }
   ],
   "source": [
    "df = pd.read_csv(\"CLEANED_data_pre_near_duplicates_handled_20250530_204510.csv\")\n",
    "df"
   ]
  },
  {
   "cell_type": "markdown",
   "id": "9dcbab2b-b276-4179-90a2-f9e65517777d",
   "metadata": {},
   "source": [
    "### Find Near Duplicates"
   ]
  },
  {
   "cell_type": "code",
   "execution_count": 6,
   "id": "a7e4b031-342f-48eb-a307-ac74f39f9838",
   "metadata": {},
   "outputs": [
    {
     "name": "stdout",
     "output_type": "stream",
     "text": [
      "Processing batch 1 of 40: rows 0 to 99999\n",
      "Building MinHash signatures in parallel...\n"
     ]
    },
    {
     "data": {
      "application/vnd.jupyter.widget-view+json": {
       "model_id": "12a427bac8874ec891488e17086c80df",
       "version_major": 2,
       "version_minor": 0
      },
      "text/plain": [
       "  0%|          | 0/100000 [00:00<?, ?it/s]"
      ]
     },
     "metadata": {},
     "output_type": "display_data"
    },
    {
     "name": "stdout",
     "output_type": "stream",
     "text": [
      "Inserting MinHash into LSH...\n"
     ]
    },
    {
     "data": {
      "application/vnd.jupyter.widget-view+json": {
       "model_id": "4241a794333e4dc9bc8bdf79049b229f",
       "version_major": 2,
       "version_minor": 0
      },
      "text/plain": [
       "LSH Insertion:   0%|          | 0/100000 [00:00<?, ?it/s]"
      ]
     },
     "metadata": {},
     "output_type": "display_data"
    },
    {
     "name": "stdout",
     "output_type": "stream",
     "text": [
      "Finding near-duplicate pairs...\n"
     ]
    },
    {
     "data": {
      "application/vnd.jupyter.widget-view+json": {
       "model_id": "9b5b0a8db6824a08aef6b9bb3685cf9b",
       "version_major": 2,
       "version_minor": 0
      },
      "text/plain": [
       "Finding near-duplicate pairs:   0%|          | 0/100000 [00:00<?, ?it/s]"
      ]
     },
     "metadata": {},
     "output_type": "display_data"
    },
    {
     "name": "stdout",
     "output_type": "stream",
     "text": [
      "Number of near-duplicate pairs found: 10346\n",
      "Processing batch 2 of 40: rows 100000 to 199999\n",
      "Building MinHash signatures in parallel...\n"
     ]
    },
    {
     "data": {
      "application/vnd.jupyter.widget-view+json": {
       "model_id": "e19d73a82d2543fa816ec42b7754891a",
       "version_major": 2,
       "version_minor": 0
      },
      "text/plain": [
       "  0%|          | 0/100000 [00:00<?, ?it/s]"
      ]
     },
     "metadata": {},
     "output_type": "display_data"
    },
    {
     "name": "stdout",
     "output_type": "stream",
     "text": [
      "Inserting MinHash into LSH...\n"
     ]
    },
    {
     "data": {
      "application/vnd.jupyter.widget-view+json": {
       "model_id": "fc4d79a4e7f54928b78e3b1c201ff445",
       "version_major": 2,
       "version_minor": 0
      },
      "text/plain": [
       "LSH Insertion:   0%|          | 0/100000 [00:00<?, ?it/s]"
      ]
     },
     "metadata": {},
     "output_type": "display_data"
    },
    {
     "name": "stdout",
     "output_type": "stream",
     "text": [
      "Finding near-duplicate pairs...\n"
     ]
    },
    {
     "data": {
      "application/vnd.jupyter.widget-view+json": {
       "model_id": "51467893677a42f096ebd22756aca396",
       "version_major": 2,
       "version_minor": 0
      },
      "text/plain": [
       "Finding near-duplicate pairs:   0%|          | 0/100000 [00:00<?, ?it/s]"
      ]
     },
     "metadata": {},
     "output_type": "display_data"
    },
    {
     "name": "stdout",
     "output_type": "stream",
     "text": [
      "Number of near-duplicate pairs found: 7560\n",
      "Processing batch 3 of 40: rows 200000 to 299999\n",
      "Building MinHash signatures in parallel...\n"
     ]
    },
    {
     "data": {
      "application/vnd.jupyter.widget-view+json": {
       "model_id": "3044c14226b84480bb8be14229d813fe",
       "version_major": 2,
       "version_minor": 0
      },
      "text/plain": [
       "  0%|          | 0/100000 [00:00<?, ?it/s]"
      ]
     },
     "metadata": {},
     "output_type": "display_data"
    },
    {
     "name": "stdout",
     "output_type": "stream",
     "text": [
      "Inserting MinHash into LSH...\n"
     ]
    },
    {
     "data": {
      "application/vnd.jupyter.widget-view+json": {
       "model_id": "1a06f91f51974f1e910e17b2234d784f",
       "version_major": 2,
       "version_minor": 0
      },
      "text/plain": [
       "LSH Insertion:   0%|          | 0/100000 [00:00<?, ?it/s]"
      ]
     },
     "metadata": {},
     "output_type": "display_data"
    },
    {
     "name": "stdout",
     "output_type": "stream",
     "text": [
      "Finding near-duplicate pairs...\n"
     ]
    },
    {
     "data": {
      "application/vnd.jupyter.widget-view+json": {
       "model_id": "ea22466f33d94f0a81cc87415edcce61",
       "version_major": 2,
       "version_minor": 0
      },
      "text/plain": [
       "Finding near-duplicate pairs:   0%|          | 0/100000 [00:00<?, ?it/s]"
      ]
     },
     "metadata": {},
     "output_type": "display_data"
    },
    {
     "name": "stdout",
     "output_type": "stream",
     "text": [
      "Number of near-duplicate pairs found: 5294\n",
      "Processing batch 4 of 40: rows 300000 to 399999\n",
      "Building MinHash signatures in parallel...\n"
     ]
    },
    {
     "data": {
      "application/vnd.jupyter.widget-view+json": {
       "model_id": "03d922c40a2843c4a33cc2e28f3bc094",
       "version_major": 2,
       "version_minor": 0
      },
      "text/plain": [
       "  0%|          | 0/100000 [00:00<?, ?it/s]"
      ]
     },
     "metadata": {},
     "output_type": "display_data"
    },
    {
     "name": "stdout",
     "output_type": "stream",
     "text": [
      "Inserting MinHash into LSH...\n"
     ]
    },
    {
     "data": {
      "application/vnd.jupyter.widget-view+json": {
       "model_id": "6a4229cf2bad48c2ac21cf9a91dec799",
       "version_major": 2,
       "version_minor": 0
      },
      "text/plain": [
       "LSH Insertion:   0%|          | 0/100000 [00:00<?, ?it/s]"
      ]
     },
     "metadata": {},
     "output_type": "display_data"
    },
    {
     "name": "stdout",
     "output_type": "stream",
     "text": [
      "Finding near-duplicate pairs...\n"
     ]
    },
    {
     "data": {
      "application/vnd.jupyter.widget-view+json": {
       "model_id": "b5906e55c79b4e1c91239117959e35b7",
       "version_major": 2,
       "version_minor": 0
      },
      "text/plain": [
       "Finding near-duplicate pairs:   0%|          | 0/100000 [00:00<?, ?it/s]"
      ]
     },
     "metadata": {},
     "output_type": "display_data"
    },
    {
     "name": "stdout",
     "output_type": "stream",
     "text": [
      "Number of near-duplicate pairs found: 4823\n",
      "Processing batch 5 of 40: rows 400000 to 499999\n",
      "Building MinHash signatures in parallel...\n"
     ]
    },
    {
     "data": {
      "application/vnd.jupyter.widget-view+json": {
       "model_id": "81721d3f61e24bcb8d6b1e1ebc73eda1",
       "version_major": 2,
       "version_minor": 0
      },
      "text/plain": [
       "  0%|          | 0/100000 [00:00<?, ?it/s]"
      ]
     },
     "metadata": {},
     "output_type": "display_data"
    },
    {
     "name": "stdout",
     "output_type": "stream",
     "text": [
      "Inserting MinHash into LSH...\n"
     ]
    },
    {
     "data": {
      "application/vnd.jupyter.widget-view+json": {
       "model_id": "3746d4def46d4438b57a2f618e2d879f",
       "version_major": 2,
       "version_minor": 0
      },
      "text/plain": [
       "LSH Insertion:   0%|          | 0/100000 [00:00<?, ?it/s]"
      ]
     },
     "metadata": {},
     "output_type": "display_data"
    },
    {
     "name": "stdout",
     "output_type": "stream",
     "text": [
      "Finding near-duplicate pairs...\n"
     ]
    },
    {
     "data": {
      "application/vnd.jupyter.widget-view+json": {
       "model_id": "c7240f7c37c6446dbd7e7e15913440a9",
       "version_major": 2,
       "version_minor": 0
      },
      "text/plain": [
       "Finding near-duplicate pairs:   0%|          | 0/100000 [00:00<?, ?it/s]"
      ]
     },
     "metadata": {},
     "output_type": "display_data"
    },
    {
     "name": "stdout",
     "output_type": "stream",
     "text": [
      "Number of near-duplicate pairs found: 4097\n",
      "Processing batch 6 of 40: rows 500000 to 599999\n",
      "Building MinHash signatures in parallel...\n"
     ]
    },
    {
     "data": {
      "application/vnd.jupyter.widget-view+json": {
       "model_id": "71dfd1b93ec74994bf5bc7af7af64e8c",
       "version_major": 2,
       "version_minor": 0
      },
      "text/plain": [
       "  0%|          | 0/100000 [00:00<?, ?it/s]"
      ]
     },
     "metadata": {},
     "output_type": "display_data"
    },
    {
     "name": "stdout",
     "output_type": "stream",
     "text": [
      "Inserting MinHash into LSH...\n"
     ]
    },
    {
     "data": {
      "application/vnd.jupyter.widget-view+json": {
       "model_id": "41160004fb674a92ad83f98c91860e16",
       "version_major": 2,
       "version_minor": 0
      },
      "text/plain": [
       "LSH Insertion:   0%|          | 0/100000 [00:00<?, ?it/s]"
      ]
     },
     "metadata": {},
     "output_type": "display_data"
    },
    {
     "name": "stdout",
     "output_type": "stream",
     "text": [
      "Finding near-duplicate pairs...\n"
     ]
    },
    {
     "data": {
      "application/vnd.jupyter.widget-view+json": {
       "model_id": "22938b93b39243c3bc9bb8c40c716290",
       "version_major": 2,
       "version_minor": 0
      },
      "text/plain": [
       "Finding near-duplicate pairs:   0%|          | 0/100000 [00:00<?, ?it/s]"
      ]
     },
     "metadata": {},
     "output_type": "display_data"
    },
    {
     "name": "stdout",
     "output_type": "stream",
     "text": [
      "Number of near-duplicate pairs found: 5328\n",
      "Processing batch 7 of 40: rows 600000 to 699999\n",
      "Building MinHash signatures in parallel...\n"
     ]
    },
    {
     "data": {
      "application/vnd.jupyter.widget-view+json": {
       "model_id": "ece4a8b0be68439b97c32432ae2c4b5b",
       "version_major": 2,
       "version_minor": 0
      },
      "text/plain": [
       "  0%|          | 0/100000 [00:00<?, ?it/s]"
      ]
     },
     "metadata": {},
     "output_type": "display_data"
    },
    {
     "name": "stdout",
     "output_type": "stream",
     "text": [
      "Inserting MinHash into LSH...\n"
     ]
    },
    {
     "data": {
      "application/vnd.jupyter.widget-view+json": {
       "model_id": "f3462586560f4912add33d1ee051292b",
       "version_major": 2,
       "version_minor": 0
      },
      "text/plain": [
       "LSH Insertion:   0%|          | 0/100000 [00:00<?, ?it/s]"
      ]
     },
     "metadata": {},
     "output_type": "display_data"
    },
    {
     "name": "stdout",
     "output_type": "stream",
     "text": [
      "Finding near-duplicate pairs...\n"
     ]
    },
    {
     "data": {
      "application/vnd.jupyter.widget-view+json": {
       "model_id": "ba8c073cc0ec454183f55e8238677a81",
       "version_major": 2,
       "version_minor": 0
      },
      "text/plain": [
       "Finding near-duplicate pairs:   0%|          | 0/100000 [00:00<?, ?it/s]"
      ]
     },
     "metadata": {},
     "output_type": "display_data"
    },
    {
     "name": "stdout",
     "output_type": "stream",
     "text": [
      "Number of near-duplicate pairs found: 8833\n",
      "Processing batch 8 of 40: rows 700000 to 799999\n",
      "Building MinHash signatures in parallel...\n"
     ]
    },
    {
     "data": {
      "application/vnd.jupyter.widget-view+json": {
       "model_id": "f8722cb8ea3e4a5e95f5ac872591e17d",
       "version_major": 2,
       "version_minor": 0
      },
      "text/plain": [
       "  0%|          | 0/100000 [00:00<?, ?it/s]"
      ]
     },
     "metadata": {},
     "output_type": "display_data"
    },
    {
     "name": "stdout",
     "output_type": "stream",
     "text": [
      "Inserting MinHash into LSH...\n"
     ]
    },
    {
     "data": {
      "application/vnd.jupyter.widget-view+json": {
       "model_id": "5ec26094b9634bbdb7b56f5f52dee518",
       "version_major": 2,
       "version_minor": 0
      },
      "text/plain": [
       "LSH Insertion:   0%|          | 0/100000 [00:00<?, ?it/s]"
      ]
     },
     "metadata": {},
     "output_type": "display_data"
    },
    {
     "name": "stdout",
     "output_type": "stream",
     "text": [
      "Finding near-duplicate pairs...\n"
     ]
    },
    {
     "data": {
      "application/vnd.jupyter.widget-view+json": {
       "model_id": "7eeb7cb2255b4683b47e9df60c376caf",
       "version_major": 2,
       "version_minor": 0
      },
      "text/plain": [
       "Finding near-duplicate pairs:   0%|          | 0/100000 [00:00<?, ?it/s]"
      ]
     },
     "metadata": {},
     "output_type": "display_data"
    },
    {
     "name": "stdout",
     "output_type": "stream",
     "text": [
      "Number of near-duplicate pairs found: 12160\n",
      "Processing batch 9 of 40: rows 800000 to 899999\n",
      "Building MinHash signatures in parallel...\n"
     ]
    },
    {
     "data": {
      "application/vnd.jupyter.widget-view+json": {
       "model_id": "83ff6a87dea542b2bda63c2d65a83f49",
       "version_major": 2,
       "version_minor": 0
      },
      "text/plain": [
       "  0%|          | 0/100000 [00:00<?, ?it/s]"
      ]
     },
     "metadata": {},
     "output_type": "display_data"
    },
    {
     "name": "stdout",
     "output_type": "stream",
     "text": [
      "Inserting MinHash into LSH...\n"
     ]
    },
    {
     "data": {
      "application/vnd.jupyter.widget-view+json": {
       "model_id": "ae8568c3c5544b1db74ac6c410e86ec9",
       "version_major": 2,
       "version_minor": 0
      },
      "text/plain": [
       "LSH Insertion:   0%|          | 0/100000 [00:00<?, ?it/s]"
      ]
     },
     "metadata": {},
     "output_type": "display_data"
    },
    {
     "name": "stdout",
     "output_type": "stream",
     "text": [
      "Finding near-duplicate pairs...\n"
     ]
    },
    {
     "data": {
      "application/vnd.jupyter.widget-view+json": {
       "model_id": "51fd869779804da48fd952176e0fde16",
       "version_major": 2,
       "version_minor": 0
      },
      "text/plain": [
       "Finding near-duplicate pairs:   0%|          | 0/100000 [00:00<?, ?it/s]"
      ]
     },
     "metadata": {},
     "output_type": "display_data"
    },
    {
     "name": "stdout",
     "output_type": "stream",
     "text": [
      "Number of near-duplicate pairs found: 11583\n",
      "Processing batch 10 of 40: rows 900000 to 999999\n",
      "Building MinHash signatures in parallel...\n"
     ]
    },
    {
     "data": {
      "application/vnd.jupyter.widget-view+json": {
       "model_id": "70260cffb3aa4f5bb7bb2f7bc8d0568f",
       "version_major": 2,
       "version_minor": 0
      },
      "text/plain": [
       "  0%|          | 0/100000 [00:00<?, ?it/s]"
      ]
     },
     "metadata": {},
     "output_type": "display_data"
    },
    {
     "name": "stdout",
     "output_type": "stream",
     "text": [
      "Inserting MinHash into LSH...\n"
     ]
    },
    {
     "data": {
      "application/vnd.jupyter.widget-view+json": {
       "model_id": "342f69f6b22442af992e541382890742",
       "version_major": 2,
       "version_minor": 0
      },
      "text/plain": [
       "LSH Insertion:   0%|          | 0/100000 [00:00<?, ?it/s]"
      ]
     },
     "metadata": {},
     "output_type": "display_data"
    },
    {
     "name": "stdout",
     "output_type": "stream",
     "text": [
      "Finding near-duplicate pairs...\n"
     ]
    },
    {
     "data": {
      "application/vnd.jupyter.widget-view+json": {
       "model_id": "027f8340912142f694c8a716a27575f8",
       "version_major": 2,
       "version_minor": 0
      },
      "text/plain": [
       "Finding near-duplicate pairs:   0%|          | 0/100000 [00:00<?, ?it/s]"
      ]
     },
     "metadata": {},
     "output_type": "display_data"
    },
    {
     "name": "stdout",
     "output_type": "stream",
     "text": [
      "Number of near-duplicate pairs found: 17705\n",
      "Processing batch 11 of 40: rows 1000000 to 1099999\n",
      "Building MinHash signatures in parallel...\n"
     ]
    },
    {
     "data": {
      "application/vnd.jupyter.widget-view+json": {
       "model_id": "e81bcaa2fd9945aab043e50bc1814336",
       "version_major": 2,
       "version_minor": 0
      },
      "text/plain": [
       "  0%|          | 0/100000 [00:00<?, ?it/s]"
      ]
     },
     "metadata": {},
     "output_type": "display_data"
    },
    {
     "name": "stdout",
     "output_type": "stream",
     "text": [
      "Inserting MinHash into LSH...\n"
     ]
    },
    {
     "data": {
      "application/vnd.jupyter.widget-view+json": {
       "model_id": "12312eb2b39746eeb5d7b4260be45ff9",
       "version_major": 2,
       "version_minor": 0
      },
      "text/plain": [
       "LSH Insertion:   0%|          | 0/100000 [00:00<?, ?it/s]"
      ]
     },
     "metadata": {},
     "output_type": "display_data"
    },
    {
     "name": "stdout",
     "output_type": "stream",
     "text": [
      "Finding near-duplicate pairs...\n"
     ]
    },
    {
     "data": {
      "application/vnd.jupyter.widget-view+json": {
       "model_id": "32c5e79f53124239a6ea4f837efdf2b8",
       "version_major": 2,
       "version_minor": 0
      },
      "text/plain": [
       "Finding near-duplicate pairs:   0%|          | 0/100000 [00:00<?, ?it/s]"
      ]
     },
     "metadata": {},
     "output_type": "display_data"
    },
    {
     "name": "stdout",
     "output_type": "stream",
     "text": [
      "Number of near-duplicate pairs found: 480899\n",
      "Processing batch 12 of 40: rows 1100000 to 1199999\n",
      "Building MinHash signatures in parallel...\n"
     ]
    },
    {
     "data": {
      "application/vnd.jupyter.widget-view+json": {
       "model_id": "8e7df4674c4241f29600bd11278b27e7",
       "version_major": 2,
       "version_minor": 0
      },
      "text/plain": [
       "  0%|          | 0/100000 [00:00<?, ?it/s]"
      ]
     },
     "metadata": {},
     "output_type": "display_data"
    },
    {
     "name": "stdout",
     "output_type": "stream",
     "text": [
      "Inserting MinHash into LSH...\n"
     ]
    },
    {
     "data": {
      "application/vnd.jupyter.widget-view+json": {
       "model_id": "30a6a8f181ed4b32a371dc5cedc8e6bd",
       "version_major": 2,
       "version_minor": 0
      },
      "text/plain": [
       "LSH Insertion:   0%|          | 0/100000 [00:00<?, ?it/s]"
      ]
     },
     "metadata": {},
     "output_type": "display_data"
    },
    {
     "name": "stdout",
     "output_type": "stream",
     "text": [
      "Finding near-duplicate pairs...\n"
     ]
    },
    {
     "data": {
      "application/vnd.jupyter.widget-view+json": {
       "model_id": "7b1922248c6147e7831f5ee29baaa9c1",
       "version_major": 2,
       "version_minor": 0
      },
      "text/plain": [
       "Finding near-duplicate pairs:   0%|          | 0/100000 [00:00<?, ?it/s]"
      ]
     },
     "metadata": {},
     "output_type": "display_data"
    },
    {
     "name": "stdout",
     "output_type": "stream",
     "text": [
      "Number of near-duplicate pairs found: 203626\n",
      "Processing batch 13 of 40: rows 1200000 to 1299999\n",
      "Building MinHash signatures in parallel...\n"
     ]
    },
    {
     "data": {
      "application/vnd.jupyter.widget-view+json": {
       "model_id": "9f4d0f6d3b594dcda985021ea8e1d5c9",
       "version_major": 2,
       "version_minor": 0
      },
      "text/plain": [
       "  0%|          | 0/100000 [00:00<?, ?it/s]"
      ]
     },
     "metadata": {},
     "output_type": "display_data"
    },
    {
     "name": "stdout",
     "output_type": "stream",
     "text": [
      "Inserting MinHash into LSH...\n"
     ]
    },
    {
     "data": {
      "application/vnd.jupyter.widget-view+json": {
       "model_id": "7933901074bc4669840cfcecef96959b",
       "version_major": 2,
       "version_minor": 0
      },
      "text/plain": [
       "LSH Insertion:   0%|          | 0/100000 [00:00<?, ?it/s]"
      ]
     },
     "metadata": {},
     "output_type": "display_data"
    },
    {
     "name": "stdout",
     "output_type": "stream",
     "text": [
      "Finding near-duplicate pairs...\n"
     ]
    },
    {
     "data": {
      "application/vnd.jupyter.widget-view+json": {
       "model_id": "d36ab7062be54bbc887fd48be83435da",
       "version_major": 2,
       "version_minor": 0
      },
      "text/plain": [
       "Finding near-duplicate pairs:   0%|          | 0/100000 [00:00<?, ?it/s]"
      ]
     },
     "metadata": {},
     "output_type": "display_data"
    },
    {
     "name": "stdout",
     "output_type": "stream",
     "text": [
      "Number of near-duplicate pairs found: 335881\n",
      "Processing batch 14 of 40: rows 1300000 to 1399999\n",
      "Building MinHash signatures in parallel...\n"
     ]
    },
    {
     "data": {
      "application/vnd.jupyter.widget-view+json": {
       "model_id": "c98e8e7e0ade46e3aa1d019682640ebd",
       "version_major": 2,
       "version_minor": 0
      },
      "text/plain": [
       "  0%|          | 0/100000 [00:00<?, ?it/s]"
      ]
     },
     "metadata": {},
     "output_type": "display_data"
    },
    {
     "name": "stdout",
     "output_type": "stream",
     "text": [
      "Inserting MinHash into LSH...\n"
     ]
    },
    {
     "data": {
      "application/vnd.jupyter.widget-view+json": {
       "model_id": "6c829669b1694706aee15fd4c134de9b",
       "version_major": 2,
       "version_minor": 0
      },
      "text/plain": [
       "LSH Insertion:   0%|          | 0/100000 [00:00<?, ?it/s]"
      ]
     },
     "metadata": {},
     "output_type": "display_data"
    },
    {
     "name": "stdout",
     "output_type": "stream",
     "text": [
      "Finding near-duplicate pairs...\n"
     ]
    },
    {
     "data": {
      "application/vnd.jupyter.widget-view+json": {
       "model_id": "7f55f25824f14734bf8c3bf337b9d856",
       "version_major": 2,
       "version_minor": 0
      },
      "text/plain": [
       "Finding near-duplicate pairs:   0%|          | 0/100000 [00:00<?, ?it/s]"
      ]
     },
     "metadata": {},
     "output_type": "display_data"
    },
    {
     "name": "stdout",
     "output_type": "stream",
     "text": [
      "Number of near-duplicate pairs found: 187246\n",
      "Processing batch 15 of 40: rows 1400000 to 1499999\n",
      "Building MinHash signatures in parallel...\n"
     ]
    },
    {
     "data": {
      "application/vnd.jupyter.widget-view+json": {
       "model_id": "3bd191e623144eb38cd26680992767ad",
       "version_major": 2,
       "version_minor": 0
      },
      "text/plain": [
       "  0%|          | 0/100000 [00:00<?, ?it/s]"
      ]
     },
     "metadata": {},
     "output_type": "display_data"
    },
    {
     "name": "stdout",
     "output_type": "stream",
     "text": [
      "Inserting MinHash into LSH...\n"
     ]
    },
    {
     "data": {
      "application/vnd.jupyter.widget-view+json": {
       "model_id": "600b98f706184b1bb782dd8875dbb4e5",
       "version_major": 2,
       "version_minor": 0
      },
      "text/plain": [
       "LSH Insertion:   0%|          | 0/100000 [00:00<?, ?it/s]"
      ]
     },
     "metadata": {},
     "output_type": "display_data"
    },
    {
     "name": "stdout",
     "output_type": "stream",
     "text": [
      "Finding near-duplicate pairs...\n"
     ]
    },
    {
     "data": {
      "application/vnd.jupyter.widget-view+json": {
       "model_id": "080cc664e25b4662a6b39e1e707df350",
       "version_major": 2,
       "version_minor": 0
      },
      "text/plain": [
       "Finding near-duplicate pairs:   0%|          | 0/100000 [00:00<?, ?it/s]"
      ]
     },
     "metadata": {},
     "output_type": "display_data"
    },
    {
     "name": "stdout",
     "output_type": "stream",
     "text": [
      "Number of near-duplicate pairs found: 317376\n",
      "Processing batch 16 of 40: rows 1500000 to 1599999\n",
      "Building MinHash signatures in parallel...\n"
     ]
    },
    {
     "data": {
      "application/vnd.jupyter.widget-view+json": {
       "model_id": "e38c1910dfa04498afe4d520aea6b129",
       "version_major": 2,
       "version_minor": 0
      },
      "text/plain": [
       "  0%|          | 0/100000 [00:00<?, ?it/s]"
      ]
     },
     "metadata": {},
     "output_type": "display_data"
    },
    {
     "name": "stdout",
     "output_type": "stream",
     "text": [
      "Inserting MinHash into LSH...\n"
     ]
    },
    {
     "data": {
      "application/vnd.jupyter.widget-view+json": {
       "model_id": "1488e864e41c4dd89c32f52cc96e16d1",
       "version_major": 2,
       "version_minor": 0
      },
      "text/plain": [
       "LSH Insertion:   0%|          | 0/100000 [00:00<?, ?it/s]"
      ]
     },
     "metadata": {},
     "output_type": "display_data"
    },
    {
     "name": "stdout",
     "output_type": "stream",
     "text": [
      "Finding near-duplicate pairs...\n"
     ]
    },
    {
     "data": {
      "application/vnd.jupyter.widget-view+json": {
       "model_id": "6913584cd178470ba9ef738602256e78",
       "version_major": 2,
       "version_minor": 0
      },
      "text/plain": [
       "Finding near-duplicate pairs:   0%|          | 0/100000 [00:00<?, ?it/s]"
      ]
     },
     "metadata": {},
     "output_type": "display_data"
    },
    {
     "name": "stdout",
     "output_type": "stream",
     "text": [
      "Number of near-duplicate pairs found: 351359\n",
      "Processing batch 17 of 40: rows 1600000 to 1699999\n",
      "Building MinHash signatures in parallel...\n"
     ]
    },
    {
     "data": {
      "application/vnd.jupyter.widget-view+json": {
       "model_id": "52f970993fd04206960667e49ee2aec2",
       "version_major": 2,
       "version_minor": 0
      },
      "text/plain": [
       "  0%|          | 0/100000 [00:00<?, ?it/s]"
      ]
     },
     "metadata": {},
     "output_type": "display_data"
    },
    {
     "name": "stdout",
     "output_type": "stream",
     "text": [
      "Inserting MinHash into LSH...\n"
     ]
    },
    {
     "data": {
      "application/vnd.jupyter.widget-view+json": {
       "model_id": "d8701f5f6e854af7b8e356866fe12b05",
       "version_major": 2,
       "version_minor": 0
      },
      "text/plain": [
       "LSH Insertion:   0%|          | 0/100000 [00:00<?, ?it/s]"
      ]
     },
     "metadata": {},
     "output_type": "display_data"
    },
    {
     "name": "stdout",
     "output_type": "stream",
     "text": [
      "Finding near-duplicate pairs...\n"
     ]
    },
    {
     "data": {
      "application/vnd.jupyter.widget-view+json": {
       "model_id": "23f7dfddbfe24ca98a569f9419407907",
       "version_major": 2,
       "version_minor": 0
      },
      "text/plain": [
       "Finding near-duplicate pairs:   0%|          | 0/100000 [00:00<?, ?it/s]"
      ]
     },
     "metadata": {},
     "output_type": "display_data"
    },
    {
     "name": "stdout",
     "output_type": "stream",
     "text": [
      "Number of near-duplicate pairs found: 347586\n",
      "Processing batch 18 of 40: rows 1700000 to 1799999\n",
      "Building MinHash signatures in parallel...\n"
     ]
    },
    {
     "data": {
      "application/vnd.jupyter.widget-view+json": {
       "model_id": "b6773913f15246e287fa56da844b96d8",
       "version_major": 2,
       "version_minor": 0
      },
      "text/plain": [
       "  0%|          | 0/100000 [00:00<?, ?it/s]"
      ]
     },
     "metadata": {},
     "output_type": "display_data"
    },
    {
     "name": "stdout",
     "output_type": "stream",
     "text": [
      "Inserting MinHash into LSH...\n"
     ]
    },
    {
     "data": {
      "application/vnd.jupyter.widget-view+json": {
       "model_id": "bef8343d6a0b4597a441bd0660487cba",
       "version_major": 2,
       "version_minor": 0
      },
      "text/plain": [
       "LSH Insertion:   0%|          | 0/100000 [00:00<?, ?it/s]"
      ]
     },
     "metadata": {},
     "output_type": "display_data"
    },
    {
     "name": "stdout",
     "output_type": "stream",
     "text": [
      "Finding near-duplicate pairs...\n"
     ]
    },
    {
     "data": {
      "application/vnd.jupyter.widget-view+json": {
       "model_id": "e803bfaf92fb495d803cc4b2a03909d0",
       "version_major": 2,
       "version_minor": 0
      },
      "text/plain": [
       "Finding near-duplicate pairs:   0%|          | 0/100000 [00:00<?, ?it/s]"
      ]
     },
     "metadata": {},
     "output_type": "display_data"
    },
    {
     "name": "stdout",
     "output_type": "stream",
     "text": [
      "Number of near-duplicate pairs found: 842850\n",
      "Processing batch 19 of 40: rows 1800000 to 1899999\n",
      "Building MinHash signatures in parallel...\n"
     ]
    },
    {
     "data": {
      "application/vnd.jupyter.widget-view+json": {
       "model_id": "74389fa6b2e442118eb1553814b23634",
       "version_major": 2,
       "version_minor": 0
      },
      "text/plain": [
       "  0%|          | 0/100000 [00:00<?, ?it/s]"
      ]
     },
     "metadata": {},
     "output_type": "display_data"
    },
    {
     "name": "stdout",
     "output_type": "stream",
     "text": [
      "Inserting MinHash into LSH...\n"
     ]
    },
    {
     "data": {
      "application/vnd.jupyter.widget-view+json": {
       "model_id": "10ca90ba981d49feb7734d4a0cc2c488",
       "version_major": 2,
       "version_minor": 0
      },
      "text/plain": [
       "LSH Insertion:   0%|          | 0/100000 [00:00<?, ?it/s]"
      ]
     },
     "metadata": {},
     "output_type": "display_data"
    },
    {
     "name": "stdout",
     "output_type": "stream",
     "text": [
      "Finding near-duplicate pairs...\n"
     ]
    },
    {
     "data": {
      "application/vnd.jupyter.widget-view+json": {
       "model_id": "5d41055f2bf04c13865702ca64a2e5df",
       "version_major": 2,
       "version_minor": 0
      },
      "text/plain": [
       "Finding near-duplicate pairs:   0%|          | 0/100000 [00:00<?, ?it/s]"
      ]
     },
     "metadata": {},
     "output_type": "display_data"
    },
    {
     "name": "stdout",
     "output_type": "stream",
     "text": [
      "Number of near-duplicate pairs found: 199969\n",
      "Processing batch 20 of 40: rows 1900000 to 1999999\n",
      "Building MinHash signatures in parallel...\n"
     ]
    },
    {
     "data": {
      "application/vnd.jupyter.widget-view+json": {
       "model_id": "da2633e1306c4320bfaef1ba2df898b1",
       "version_major": 2,
       "version_minor": 0
      },
      "text/plain": [
       "  0%|          | 0/100000 [00:00<?, ?it/s]"
      ]
     },
     "metadata": {},
     "output_type": "display_data"
    },
    {
     "name": "stdout",
     "output_type": "stream",
     "text": [
      "Inserting MinHash into LSH...\n"
     ]
    },
    {
     "data": {
      "application/vnd.jupyter.widget-view+json": {
       "model_id": "b5e0500c046140628b2a350b89d627ed",
       "version_major": 2,
       "version_minor": 0
      },
      "text/plain": [
       "LSH Insertion:   0%|          | 0/100000 [00:00<?, ?it/s]"
      ]
     },
     "metadata": {},
     "output_type": "display_data"
    },
    {
     "name": "stdout",
     "output_type": "stream",
     "text": [
      "Finding near-duplicate pairs...\n"
     ]
    },
    {
     "data": {
      "application/vnd.jupyter.widget-view+json": {
       "model_id": "74b839f788794af899cd0150b2d2d196",
       "version_major": 2,
       "version_minor": 0
      },
      "text/plain": [
       "Finding near-duplicate pairs:   0%|          | 0/100000 [00:00<?, ?it/s]"
      ]
     },
     "metadata": {},
     "output_type": "display_data"
    },
    {
     "name": "stdout",
     "output_type": "stream",
     "text": [
      "Number of near-duplicate pairs found: 203018\n",
      "Processing batch 21 of 40: rows 2000000 to 2099999\n",
      "Building MinHash signatures in parallel...\n"
     ]
    },
    {
     "data": {
      "application/vnd.jupyter.widget-view+json": {
       "model_id": "94f424344cf44719823a10f5f767bf27",
       "version_major": 2,
       "version_minor": 0
      },
      "text/plain": [
       "  0%|          | 0/100000 [00:00<?, ?it/s]"
      ]
     },
     "metadata": {},
     "output_type": "display_data"
    },
    {
     "name": "stdout",
     "output_type": "stream",
     "text": [
      "Inserting MinHash into LSH...\n"
     ]
    },
    {
     "data": {
      "application/vnd.jupyter.widget-view+json": {
       "model_id": "a462547ababe4a55ba4b21cc70b3d8d3",
       "version_major": 2,
       "version_minor": 0
      },
      "text/plain": [
       "LSH Insertion:   0%|          | 0/100000 [00:00<?, ?it/s]"
      ]
     },
     "metadata": {},
     "output_type": "display_data"
    },
    {
     "name": "stdout",
     "output_type": "stream",
     "text": [
      "Finding near-duplicate pairs...\n"
     ]
    },
    {
     "data": {
      "application/vnd.jupyter.widget-view+json": {
       "model_id": "3fa942942f67425c97891a9a13d8bb53",
       "version_major": 2,
       "version_minor": 0
      },
      "text/plain": [
       "Finding near-duplicate pairs:   0%|          | 0/100000 [00:00<?, ?it/s]"
      ]
     },
     "metadata": {},
     "output_type": "display_data"
    },
    {
     "name": "stdout",
     "output_type": "stream",
     "text": [
      "Number of near-duplicate pairs found: 292597\n",
      "Processing batch 22 of 40: rows 2100000 to 2199999\n",
      "Building MinHash signatures in parallel...\n"
     ]
    },
    {
     "data": {
      "application/vnd.jupyter.widget-view+json": {
       "model_id": "712119ea19434bcf9bd8694adf44940e",
       "version_major": 2,
       "version_minor": 0
      },
      "text/plain": [
       "  0%|          | 0/100000 [00:00<?, ?it/s]"
      ]
     },
     "metadata": {},
     "output_type": "display_data"
    },
    {
     "name": "stdout",
     "output_type": "stream",
     "text": [
      "Inserting MinHash into LSH...\n"
     ]
    },
    {
     "data": {
      "application/vnd.jupyter.widget-view+json": {
       "model_id": "ecb85d58ce164196b343b2234d5ff791",
       "version_major": 2,
       "version_minor": 0
      },
      "text/plain": [
       "LSH Insertion:   0%|          | 0/100000 [00:00<?, ?it/s]"
      ]
     },
     "metadata": {},
     "output_type": "display_data"
    },
    {
     "name": "stdout",
     "output_type": "stream",
     "text": [
      "Finding near-duplicate pairs...\n"
     ]
    },
    {
     "data": {
      "application/vnd.jupyter.widget-view+json": {
       "model_id": "0537b92f3755496d8efe35690a2f32de",
       "version_major": 2,
       "version_minor": 0
      },
      "text/plain": [
       "Finding near-duplicate pairs:   0%|          | 0/100000 [00:00<?, ?it/s]"
      ]
     },
     "metadata": {},
     "output_type": "display_data"
    },
    {
     "name": "stdout",
     "output_type": "stream",
     "text": [
      "Number of near-duplicate pairs found: 1198257\n",
      "Processing batch 23 of 40: rows 2200000 to 2299999\n",
      "Building MinHash signatures in parallel...\n"
     ]
    },
    {
     "data": {
      "application/vnd.jupyter.widget-view+json": {
       "model_id": "d947ecdd48cd48e1bdaac59fc6f72eca",
       "version_major": 2,
       "version_minor": 0
      },
      "text/plain": [
       "  0%|          | 0/100000 [00:00<?, ?it/s]"
      ]
     },
     "metadata": {},
     "output_type": "display_data"
    },
    {
     "name": "stdout",
     "output_type": "stream",
     "text": [
      "Inserting MinHash into LSH...\n"
     ]
    },
    {
     "data": {
      "application/vnd.jupyter.widget-view+json": {
       "model_id": "6193090b5c3a468c9b1bc57b1be44505",
       "version_major": 2,
       "version_minor": 0
      },
      "text/plain": [
       "LSH Insertion:   0%|          | 0/100000 [00:00<?, ?it/s]"
      ]
     },
     "metadata": {},
     "output_type": "display_data"
    },
    {
     "name": "stdout",
     "output_type": "stream",
     "text": [
      "Finding near-duplicate pairs...\n"
     ]
    },
    {
     "data": {
      "application/vnd.jupyter.widget-view+json": {
       "model_id": "a8c081993bc841d68a3892491e54dcaf",
       "version_major": 2,
       "version_minor": 0
      },
      "text/plain": [
       "Finding near-duplicate pairs:   0%|          | 0/100000 [00:00<?, ?it/s]"
      ]
     },
     "metadata": {},
     "output_type": "display_data"
    },
    {
     "name": "stdout",
     "output_type": "stream",
     "text": [
      "Number of near-duplicate pairs found: 222938\n",
      "Processing batch 24 of 40: rows 2300000 to 2399999\n",
      "Building MinHash signatures in parallel...\n"
     ]
    },
    {
     "data": {
      "application/vnd.jupyter.widget-view+json": {
       "model_id": "296a1401e01f4429845405480fba3dc2",
       "version_major": 2,
       "version_minor": 0
      },
      "text/plain": [
       "  0%|          | 0/100000 [00:00<?, ?it/s]"
      ]
     },
     "metadata": {},
     "output_type": "display_data"
    },
    {
     "name": "stdout",
     "output_type": "stream",
     "text": [
      "Inserting MinHash into LSH...\n"
     ]
    },
    {
     "data": {
      "application/vnd.jupyter.widget-view+json": {
       "model_id": "dc3f1ed0b840495ba5878f931b6fe5e5",
       "version_major": 2,
       "version_minor": 0
      },
      "text/plain": [
       "LSH Insertion:   0%|          | 0/100000 [00:00<?, ?it/s]"
      ]
     },
     "metadata": {},
     "output_type": "display_data"
    },
    {
     "name": "stdout",
     "output_type": "stream",
     "text": [
      "Finding near-duplicate pairs...\n"
     ]
    },
    {
     "data": {
      "application/vnd.jupyter.widget-view+json": {
       "model_id": "e2df8fbe18e64cce9e1f87f898d69141",
       "version_major": 2,
       "version_minor": 0
      },
      "text/plain": [
       "Finding near-duplicate pairs:   0%|          | 0/100000 [00:00<?, ?it/s]"
      ]
     },
     "metadata": {},
     "output_type": "display_data"
    },
    {
     "name": "stdout",
     "output_type": "stream",
     "text": [
      "Number of near-duplicate pairs found: 300914\n",
      "Processing batch 25 of 40: rows 2400000 to 2499999\n",
      "Building MinHash signatures in parallel...\n"
     ]
    },
    {
     "data": {
      "application/vnd.jupyter.widget-view+json": {
       "model_id": "5fd959d8bb674bcc9233ba56ed2ba90b",
       "version_major": 2,
       "version_minor": 0
      },
      "text/plain": [
       "  0%|          | 0/100000 [00:00<?, ?it/s]"
      ]
     },
     "metadata": {},
     "output_type": "display_data"
    },
    {
     "name": "stdout",
     "output_type": "stream",
     "text": [
      "Inserting MinHash into LSH...\n"
     ]
    },
    {
     "data": {
      "application/vnd.jupyter.widget-view+json": {
       "model_id": "cedb0c3bc63846ba982d85fe46db6a95",
       "version_major": 2,
       "version_minor": 0
      },
      "text/plain": [
       "LSH Insertion:   0%|          | 0/100000 [00:00<?, ?it/s]"
      ]
     },
     "metadata": {},
     "output_type": "display_data"
    },
    {
     "name": "stdout",
     "output_type": "stream",
     "text": [
      "Finding near-duplicate pairs...\n"
     ]
    },
    {
     "data": {
      "application/vnd.jupyter.widget-view+json": {
       "model_id": "668be239960f495cbff1ecf96315f76d",
       "version_major": 2,
       "version_minor": 0
      },
      "text/plain": [
       "Finding near-duplicate pairs:   0%|          | 0/100000 [00:00<?, ?it/s]"
      ]
     },
     "metadata": {},
     "output_type": "display_data"
    },
    {
     "name": "stdout",
     "output_type": "stream",
     "text": [
      "Number of near-duplicate pairs found: 289244\n",
      "Processing batch 26 of 40: rows 2500000 to 2599999\n",
      "Building MinHash signatures in parallel...\n"
     ]
    },
    {
     "data": {
      "application/vnd.jupyter.widget-view+json": {
       "model_id": "ae835c40da3344d186601e77e1917a6d",
       "version_major": 2,
       "version_minor": 0
      },
      "text/plain": [
       "  0%|          | 0/100000 [00:00<?, ?it/s]"
      ]
     },
     "metadata": {},
     "output_type": "display_data"
    },
    {
     "name": "stdout",
     "output_type": "stream",
     "text": [
      "Inserting MinHash into LSH...\n"
     ]
    },
    {
     "data": {
      "application/vnd.jupyter.widget-view+json": {
       "model_id": "f3dbed5c3afb4b6a912466290c03472a",
       "version_major": 2,
       "version_minor": 0
      },
      "text/plain": [
       "LSH Insertion:   0%|          | 0/100000 [00:00<?, ?it/s]"
      ]
     },
     "metadata": {},
     "output_type": "display_data"
    },
    {
     "name": "stdout",
     "output_type": "stream",
     "text": [
      "Finding near-duplicate pairs...\n"
     ]
    },
    {
     "data": {
      "application/vnd.jupyter.widget-view+json": {
       "model_id": "90b7e91810124ad4a19e16163967f65c",
       "version_major": 2,
       "version_minor": 0
      },
      "text/plain": [
       "Finding near-duplicate pairs:   0%|          | 0/100000 [00:00<?, ?it/s]"
      ]
     },
     "metadata": {},
     "output_type": "display_data"
    },
    {
     "name": "stdout",
     "output_type": "stream",
     "text": [
      "Number of near-duplicate pairs found: 265092\n",
      "Processing batch 27 of 40: rows 2600000 to 2699999\n",
      "Building MinHash signatures in parallel...\n"
     ]
    },
    {
     "data": {
      "application/vnd.jupyter.widget-view+json": {
       "model_id": "a76bef43e22b47dfa39f3707a2d38fc0",
       "version_major": 2,
       "version_minor": 0
      },
      "text/plain": [
       "  0%|          | 0/100000 [00:00<?, ?it/s]"
      ]
     },
     "metadata": {},
     "output_type": "display_data"
    },
    {
     "name": "stdout",
     "output_type": "stream",
     "text": [
      "Inserting MinHash into LSH...\n"
     ]
    },
    {
     "data": {
      "application/vnd.jupyter.widget-view+json": {
       "model_id": "c599fd1a345a46a282070d7c0ab9c338",
       "version_major": 2,
       "version_minor": 0
      },
      "text/plain": [
       "LSH Insertion:   0%|          | 0/100000 [00:00<?, ?it/s]"
      ]
     },
     "metadata": {},
     "output_type": "display_data"
    },
    {
     "name": "stdout",
     "output_type": "stream",
     "text": [
      "Finding near-duplicate pairs...\n"
     ]
    },
    {
     "data": {
      "application/vnd.jupyter.widget-view+json": {
       "model_id": "81abce8875434d26bdd30c16aac76ee6",
       "version_major": 2,
       "version_minor": 0
      },
      "text/plain": [
       "Finding near-duplicate pairs:   0%|          | 0/100000 [00:00<?, ?it/s]"
      ]
     },
     "metadata": {},
     "output_type": "display_data"
    },
    {
     "name": "stdout",
     "output_type": "stream",
     "text": [
      "Number of near-duplicate pairs found: 253698\n",
      "Processing batch 28 of 40: rows 2700000 to 2799999\n",
      "Building MinHash signatures in parallel...\n"
     ]
    },
    {
     "data": {
      "application/vnd.jupyter.widget-view+json": {
       "model_id": "72f2abddbfc84acfac0806d8ad40aa1e",
       "version_major": 2,
       "version_minor": 0
      },
      "text/plain": [
       "  0%|          | 0/100000 [00:00<?, ?it/s]"
      ]
     },
     "metadata": {},
     "output_type": "display_data"
    },
    {
     "name": "stdout",
     "output_type": "stream",
     "text": [
      "Inserting MinHash into LSH...\n"
     ]
    },
    {
     "data": {
      "application/vnd.jupyter.widget-view+json": {
       "model_id": "c6dcd4439054494ea5231e8d83a13296",
       "version_major": 2,
       "version_minor": 0
      },
      "text/plain": [
       "LSH Insertion:   0%|          | 0/100000 [00:00<?, ?it/s]"
      ]
     },
     "metadata": {},
     "output_type": "display_data"
    },
    {
     "name": "stdout",
     "output_type": "stream",
     "text": [
      "Finding near-duplicate pairs...\n"
     ]
    },
    {
     "data": {
      "application/vnd.jupyter.widget-view+json": {
       "model_id": "430aa2b0825f46f39945aef347586f47",
       "version_major": 2,
       "version_minor": 0
      },
      "text/plain": [
       "Finding near-duplicate pairs:   0%|          | 0/100000 [00:00<?, ?it/s]"
      ]
     },
     "metadata": {},
     "output_type": "display_data"
    },
    {
     "name": "stdout",
     "output_type": "stream",
     "text": [
      "Number of near-duplicate pairs found: 112710\n",
      "Processing batch 29 of 40: rows 2800000 to 2899999\n",
      "Building MinHash signatures in parallel...\n"
     ]
    },
    {
     "data": {
      "application/vnd.jupyter.widget-view+json": {
       "model_id": "2460a8bb7b6c4a17b08d7a256c02acca",
       "version_major": 2,
       "version_minor": 0
      },
      "text/plain": [
       "  0%|          | 0/100000 [00:00<?, ?it/s]"
      ]
     },
     "metadata": {},
     "output_type": "display_data"
    },
    {
     "name": "stdout",
     "output_type": "stream",
     "text": [
      "Inserting MinHash into LSH...\n"
     ]
    },
    {
     "data": {
      "application/vnd.jupyter.widget-view+json": {
       "model_id": "4fe6b68aedd24c2d951ca2a399e89694",
       "version_major": 2,
       "version_minor": 0
      },
      "text/plain": [
       "LSH Insertion:   0%|          | 0/100000 [00:00<?, ?it/s]"
      ]
     },
     "metadata": {},
     "output_type": "display_data"
    },
    {
     "name": "stdout",
     "output_type": "stream",
     "text": [
      "Finding near-duplicate pairs...\n"
     ]
    },
    {
     "data": {
      "application/vnd.jupyter.widget-view+json": {
       "model_id": "95f7c9451aa7460fa73e53b0b355e114",
       "version_major": 2,
       "version_minor": 0
      },
      "text/plain": [
       "Finding near-duplicate pairs:   0%|          | 0/100000 [00:00<?, ?it/s]"
      ]
     },
     "metadata": {},
     "output_type": "display_data"
    },
    {
     "name": "stdout",
     "output_type": "stream",
     "text": [
      "Number of near-duplicate pairs found: 79258\n",
      "Processing batch 30 of 40: rows 2900000 to 2999999\n",
      "Building MinHash signatures in parallel...\n"
     ]
    },
    {
     "data": {
      "application/vnd.jupyter.widget-view+json": {
       "model_id": "f13092c4df5e4ca9a3d0e621d8246c5e",
       "version_major": 2,
       "version_minor": 0
      },
      "text/plain": [
       "  0%|          | 0/100000 [00:00<?, ?it/s]"
      ]
     },
     "metadata": {},
     "output_type": "display_data"
    },
    {
     "name": "stdout",
     "output_type": "stream",
     "text": [
      "Inserting MinHash into LSH...\n"
     ]
    },
    {
     "data": {
      "application/vnd.jupyter.widget-view+json": {
       "model_id": "b5e13de100ac4df48fdf3d87e2647028",
       "version_major": 2,
       "version_minor": 0
      },
      "text/plain": [
       "LSH Insertion:   0%|          | 0/100000 [00:00<?, ?it/s]"
      ]
     },
     "metadata": {},
     "output_type": "display_data"
    },
    {
     "name": "stdout",
     "output_type": "stream",
     "text": [
      "Finding near-duplicate pairs...\n"
     ]
    },
    {
     "data": {
      "application/vnd.jupyter.widget-view+json": {
       "model_id": "af96eb3e893c4af189ab65fdd5c35682",
       "version_major": 2,
       "version_minor": 0
      },
      "text/plain": [
       "Finding near-duplicate pairs:   0%|          | 0/100000 [00:00<?, ?it/s]"
      ]
     },
     "metadata": {},
     "output_type": "display_data"
    },
    {
     "name": "stdout",
     "output_type": "stream",
     "text": [
      "Number of near-duplicate pairs found: 1274286\n",
      "Processing batch 31 of 40: rows 3000000 to 3099999\n",
      "Building MinHash signatures in parallel...\n"
     ]
    },
    {
     "data": {
      "application/vnd.jupyter.widget-view+json": {
       "model_id": "f801c5f439544b2fb15c8b1bba59b733",
       "version_major": 2,
       "version_minor": 0
      },
      "text/plain": [
       "  0%|          | 0/100000 [00:00<?, ?it/s]"
      ]
     },
     "metadata": {},
     "output_type": "display_data"
    },
    {
     "name": "stdout",
     "output_type": "stream",
     "text": [
      "Inserting MinHash into LSH...\n"
     ]
    },
    {
     "data": {
      "application/vnd.jupyter.widget-view+json": {
       "model_id": "97743e6563624c4787bcba2765926afa",
       "version_major": 2,
       "version_minor": 0
      },
      "text/plain": [
       "LSH Insertion:   0%|          | 0/100000 [00:00<?, ?it/s]"
      ]
     },
     "metadata": {},
     "output_type": "display_data"
    },
    {
     "name": "stdout",
     "output_type": "stream",
     "text": [
      "Finding near-duplicate pairs...\n"
     ]
    },
    {
     "data": {
      "application/vnd.jupyter.widget-view+json": {
       "model_id": "2836795303c743058ea7ea2a84ac62a5",
       "version_major": 2,
       "version_minor": 0
      },
      "text/plain": [
       "Finding near-duplicate pairs:   0%|          | 0/100000 [00:00<?, ?it/s]"
      ]
     },
     "metadata": {},
     "output_type": "display_data"
    },
    {
     "name": "stdout",
     "output_type": "stream",
     "text": [
      "Number of near-duplicate pairs found: 439001\n",
      "Processing batch 32 of 40: rows 3100000 to 3199999\n",
      "Building MinHash signatures in parallel...\n"
     ]
    },
    {
     "data": {
      "application/vnd.jupyter.widget-view+json": {
       "model_id": "edc1f058bb714f9d9210adf20b249138",
       "version_major": 2,
       "version_minor": 0
      },
      "text/plain": [
       "  0%|          | 0/100000 [00:00<?, ?it/s]"
      ]
     },
     "metadata": {},
     "output_type": "display_data"
    },
    {
     "name": "stdout",
     "output_type": "stream",
     "text": [
      "Inserting MinHash into LSH...\n"
     ]
    },
    {
     "data": {
      "application/vnd.jupyter.widget-view+json": {
       "model_id": "f27432a4529b4094ac75d6f13b6bc398",
       "version_major": 2,
       "version_minor": 0
      },
      "text/plain": [
       "LSH Insertion:   0%|          | 0/100000 [00:00<?, ?it/s]"
      ]
     },
     "metadata": {},
     "output_type": "display_data"
    },
    {
     "name": "stdout",
     "output_type": "stream",
     "text": [
      "Finding near-duplicate pairs...\n"
     ]
    },
    {
     "data": {
      "application/vnd.jupyter.widget-view+json": {
       "model_id": "ff1e62f537774564b3730444b1c47957",
       "version_major": 2,
       "version_minor": 0
      },
      "text/plain": [
       "Finding near-duplicate pairs:   0%|          | 0/100000 [00:00<?, ?it/s]"
      ]
     },
     "metadata": {},
     "output_type": "display_data"
    },
    {
     "name": "stdout",
     "output_type": "stream",
     "text": [
      "Number of near-duplicate pairs found: 224156\n",
      "Processing batch 33 of 40: rows 3200000 to 3299999\n",
      "Building MinHash signatures in parallel...\n"
     ]
    },
    {
     "data": {
      "application/vnd.jupyter.widget-view+json": {
       "model_id": "9475a221141f4f45a7c07fbe529c840c",
       "version_major": 2,
       "version_minor": 0
      },
      "text/plain": [
       "  0%|          | 0/100000 [00:00<?, ?it/s]"
      ]
     },
     "metadata": {},
     "output_type": "display_data"
    },
    {
     "name": "stdout",
     "output_type": "stream",
     "text": [
      "Inserting MinHash into LSH...\n"
     ]
    },
    {
     "data": {
      "application/vnd.jupyter.widget-view+json": {
       "model_id": "8f05243338a648279246e41f817f9672",
       "version_major": 2,
       "version_minor": 0
      },
      "text/plain": [
       "LSH Insertion:   0%|          | 0/100000 [00:00<?, ?it/s]"
      ]
     },
     "metadata": {},
     "output_type": "display_data"
    },
    {
     "name": "stdout",
     "output_type": "stream",
     "text": [
      "Finding near-duplicate pairs...\n"
     ]
    },
    {
     "data": {
      "application/vnd.jupyter.widget-view+json": {
       "model_id": "47ffaf5cb0374feeb2f5e8317554c92f",
       "version_major": 2,
       "version_minor": 0
      },
      "text/plain": [
       "Finding near-duplicate pairs:   0%|          | 0/100000 [00:00<?, ?it/s]"
      ]
     },
     "metadata": {},
     "output_type": "display_data"
    },
    {
     "name": "stdout",
     "output_type": "stream",
     "text": [
      "Number of near-duplicate pairs found: 215610\n",
      "Processing batch 34 of 40: rows 3300000 to 3399999\n",
      "Building MinHash signatures in parallel...\n"
     ]
    },
    {
     "data": {
      "application/vnd.jupyter.widget-view+json": {
       "model_id": "26602d75504340dc9a7adcb5022fd2d3",
       "version_major": 2,
       "version_minor": 0
      },
      "text/plain": [
       "  0%|          | 0/100000 [00:00<?, ?it/s]"
      ]
     },
     "metadata": {},
     "output_type": "display_data"
    },
    {
     "name": "stdout",
     "output_type": "stream",
     "text": [
      "Inserting MinHash into LSH...\n"
     ]
    },
    {
     "data": {
      "application/vnd.jupyter.widget-view+json": {
       "model_id": "fe70279fc45647b391a76218944d3725",
       "version_major": 2,
       "version_minor": 0
      },
      "text/plain": [
       "LSH Insertion:   0%|          | 0/100000 [00:00<?, ?it/s]"
      ]
     },
     "metadata": {},
     "output_type": "display_data"
    },
    {
     "name": "stdout",
     "output_type": "stream",
     "text": [
      "Finding near-duplicate pairs...\n"
     ]
    },
    {
     "data": {
      "application/vnd.jupyter.widget-view+json": {
       "model_id": "e7987c1ae60449e5a1c7baa0ee1d97e1",
       "version_major": 2,
       "version_minor": 0
      },
      "text/plain": [
       "Finding near-duplicate pairs:   0%|          | 0/100000 [00:00<?, ?it/s]"
      ]
     },
     "metadata": {},
     "output_type": "display_data"
    },
    {
     "name": "stdout",
     "output_type": "stream",
     "text": [
      "Number of near-duplicate pairs found: 1143923\n",
      "Processing batch 35 of 40: rows 3400000 to 3499999\n",
      "Building MinHash signatures in parallel...\n"
     ]
    },
    {
     "data": {
      "application/vnd.jupyter.widget-view+json": {
       "model_id": "68faaea06bf6487ca7aaf36fea1fc911",
       "version_major": 2,
       "version_minor": 0
      },
      "text/plain": [
       "  0%|          | 0/100000 [00:00<?, ?it/s]"
      ]
     },
     "metadata": {},
     "output_type": "display_data"
    },
    {
     "name": "stdout",
     "output_type": "stream",
     "text": [
      "Inserting MinHash into LSH...\n"
     ]
    },
    {
     "data": {
      "application/vnd.jupyter.widget-view+json": {
       "model_id": "731e63c00a414914b3b60a8956875e1c",
       "version_major": 2,
       "version_minor": 0
      },
      "text/plain": [
       "LSH Insertion:   0%|          | 0/100000 [00:00<?, ?it/s]"
      ]
     },
     "metadata": {},
     "output_type": "display_data"
    },
    {
     "name": "stdout",
     "output_type": "stream",
     "text": [
      "Finding near-duplicate pairs...\n"
     ]
    },
    {
     "data": {
      "application/vnd.jupyter.widget-view+json": {
       "model_id": "8109546a3d394614b246cc8fc9fa3741",
       "version_major": 2,
       "version_minor": 0
      },
      "text/plain": [
       "Finding near-duplicate pairs:   0%|          | 0/100000 [00:00<?, ?it/s]"
      ]
     },
     "metadata": {},
     "output_type": "display_data"
    },
    {
     "name": "stdout",
     "output_type": "stream",
     "text": [
      "Number of near-duplicate pairs found: 420183\n",
      "Processing batch 36 of 40: rows 3500000 to 3599999\n",
      "Building MinHash signatures in parallel...\n"
     ]
    },
    {
     "data": {
      "application/vnd.jupyter.widget-view+json": {
       "model_id": "8a31a373417445988b0ad049f21f2086",
       "version_major": 2,
       "version_minor": 0
      },
      "text/plain": [
       "  0%|          | 0/100000 [00:00<?, ?it/s]"
      ]
     },
     "metadata": {},
     "output_type": "display_data"
    },
    {
     "name": "stdout",
     "output_type": "stream",
     "text": [
      "Inserting MinHash into LSH...\n"
     ]
    },
    {
     "data": {
      "application/vnd.jupyter.widget-view+json": {
       "model_id": "2cb5dd342ef14ba39c3ff36e3ce8c15c",
       "version_major": 2,
       "version_minor": 0
      },
      "text/plain": [
       "LSH Insertion:   0%|          | 0/100000 [00:00<?, ?it/s]"
      ]
     },
     "metadata": {},
     "output_type": "display_data"
    },
    {
     "name": "stdout",
     "output_type": "stream",
     "text": [
      "Finding near-duplicate pairs...\n"
     ]
    },
    {
     "data": {
      "application/vnd.jupyter.widget-view+json": {
       "model_id": "21e4e79e84c942cda3ba473bda7a530c",
       "version_major": 2,
       "version_minor": 0
      },
      "text/plain": [
       "Finding near-duplicate pairs:   0%|          | 0/100000 [00:00<?, ?it/s]"
      ]
     },
     "metadata": {},
     "output_type": "display_data"
    },
    {
     "name": "stdout",
     "output_type": "stream",
     "text": [
      "Number of near-duplicate pairs found: 603947\n",
      "Processing batch 37 of 40: rows 3600000 to 3699999\n",
      "Building MinHash signatures in parallel...\n"
     ]
    },
    {
     "data": {
      "application/vnd.jupyter.widget-view+json": {
       "model_id": "2cc5c14728474b67b6477aa7100c057f",
       "version_major": 2,
       "version_minor": 0
      },
      "text/plain": [
       "  0%|          | 0/100000 [00:00<?, ?it/s]"
      ]
     },
     "metadata": {},
     "output_type": "display_data"
    },
    {
     "name": "stdout",
     "output_type": "stream",
     "text": [
      "Inserting MinHash into LSH...\n"
     ]
    },
    {
     "data": {
      "application/vnd.jupyter.widget-view+json": {
       "model_id": "e5203950ed5c4bc9b9a72a4769ce75eb",
       "version_major": 2,
       "version_minor": 0
      },
      "text/plain": [
       "LSH Insertion:   0%|          | 0/100000 [00:00<?, ?it/s]"
      ]
     },
     "metadata": {},
     "output_type": "display_data"
    },
    {
     "name": "stdout",
     "output_type": "stream",
     "text": [
      "Finding near-duplicate pairs...\n"
     ]
    },
    {
     "data": {
      "application/vnd.jupyter.widget-view+json": {
       "model_id": "4feb0cc490a74479b694485eeb0ddc4c",
       "version_major": 2,
       "version_minor": 0
      },
      "text/plain": [
       "Finding near-duplicate pairs:   0%|          | 0/100000 [00:00<?, ?it/s]"
      ]
     },
     "metadata": {},
     "output_type": "display_data"
    },
    {
     "name": "stdout",
     "output_type": "stream",
     "text": [
      "Number of near-duplicate pairs found: 342986\n",
      "Processing batch 38 of 40: rows 3700000 to 3799999\n",
      "Building MinHash signatures in parallel...\n"
     ]
    },
    {
     "data": {
      "application/vnd.jupyter.widget-view+json": {
       "model_id": "b167197060114e7ab765b600137fe42e",
       "version_major": 2,
       "version_minor": 0
      },
      "text/plain": [
       "  0%|          | 0/100000 [00:00<?, ?it/s]"
      ]
     },
     "metadata": {},
     "output_type": "display_data"
    },
    {
     "name": "stdout",
     "output_type": "stream",
     "text": [
      "Inserting MinHash into LSH...\n"
     ]
    },
    {
     "data": {
      "application/vnd.jupyter.widget-view+json": {
       "model_id": "a158179a4b88417abbed3432f630f2b5",
       "version_major": 2,
       "version_minor": 0
      },
      "text/plain": [
       "LSH Insertion:   0%|          | 0/100000 [00:00<?, ?it/s]"
      ]
     },
     "metadata": {},
     "output_type": "display_data"
    },
    {
     "name": "stdout",
     "output_type": "stream",
     "text": [
      "Finding near-duplicate pairs...\n"
     ]
    },
    {
     "data": {
      "application/vnd.jupyter.widget-view+json": {
       "model_id": "98c35ac672324715a9f6330624882882",
       "version_major": 2,
       "version_minor": 0
      },
      "text/plain": [
       "Finding near-duplicate pairs:   0%|          | 0/100000 [00:00<?, ?it/s]"
      ]
     },
     "metadata": {},
     "output_type": "display_data"
    },
    {
     "name": "stdout",
     "output_type": "stream",
     "text": [
      "Number of near-duplicate pairs found: 215912\n",
      "Processing batch 39 of 40: rows 3800000 to 3899999\n",
      "Building MinHash signatures in parallel...\n"
     ]
    },
    {
     "data": {
      "application/vnd.jupyter.widget-view+json": {
       "model_id": "5ac95fd6eeb0432cadc914d6ff5dc530",
       "version_major": 2,
       "version_minor": 0
      },
      "text/plain": [
       "  0%|          | 0/100000 [00:00<?, ?it/s]"
      ]
     },
     "metadata": {},
     "output_type": "display_data"
    },
    {
     "name": "stdout",
     "output_type": "stream",
     "text": [
      "Inserting MinHash into LSH...\n"
     ]
    },
    {
     "data": {
      "application/vnd.jupyter.widget-view+json": {
       "model_id": "0ff426d794a44484851e71aa4ce5ffe7",
       "version_major": 2,
       "version_minor": 0
      },
      "text/plain": [
       "LSH Insertion:   0%|          | 0/100000 [00:00<?, ?it/s]"
      ]
     },
     "metadata": {},
     "output_type": "display_data"
    },
    {
     "name": "stdout",
     "output_type": "stream",
     "text": [
      "Finding near-duplicate pairs...\n"
     ]
    },
    {
     "data": {
      "application/vnd.jupyter.widget-view+json": {
       "model_id": "7d8e6d4c300a4de9a2982166bed86b70",
       "version_major": 2,
       "version_minor": 0
      },
      "text/plain": [
       "Finding near-duplicate pairs:   0%|          | 0/100000 [00:00<?, ?it/s]"
      ]
     },
     "metadata": {},
     "output_type": "display_data"
    },
    {
     "name": "stdout",
     "output_type": "stream",
     "text": [
      "Number of near-duplicate pairs found: 207047\n",
      "Processing batch 40 of 40: rows 3900000 to 3922037\n",
      "Building MinHash signatures in parallel...\n"
     ]
    },
    {
     "data": {
      "application/vnd.jupyter.widget-view+json": {
       "model_id": "c287ce14d530472a897494b6bf5ae1f1",
       "version_major": 2,
       "version_minor": 0
      },
      "text/plain": [
       "  0%|          | 0/22038 [00:00<?, ?it/s]"
      ]
     },
     "metadata": {},
     "output_type": "display_data"
    },
    {
     "name": "stdout",
     "output_type": "stream",
     "text": [
      "Inserting MinHash into LSH...\n"
     ]
    },
    {
     "data": {
      "application/vnd.jupyter.widget-view+json": {
       "model_id": "fbaa55e373a540e09f8232448c6a8d21",
       "version_major": 2,
       "version_minor": 0
      },
      "text/plain": [
       "LSH Insertion:   0%|          | 0/22038 [00:00<?, ?it/s]"
      ]
     },
     "metadata": {},
     "output_type": "display_data"
    },
    {
     "name": "stdout",
     "output_type": "stream",
     "text": [
      "Finding near-duplicate pairs...\n"
     ]
    },
    {
     "data": {
      "application/vnd.jupyter.widget-view+json": {
       "model_id": "6a6f98fb42594cd7b31182b2008ceddf",
       "version_major": 2,
       "version_minor": 0
      },
      "text/plain": [
       "Finding near-duplicate pairs:   0%|          | 0/22038 [00:00<?, ?it/s]"
      ]
     },
     "metadata": {},
     "output_type": "display_data"
    },
    {
     "name": "stdout",
     "output_type": "stream",
     "text": [
      "Number of near-duplicate pairs found: 42999\n"
     ]
    }
   ],
   "source": [
    "BATCH_SIZE = 100_000  \n",
    "all_duplicates = []\n",
    "\n",
    "num_batches = (len(df) + BATCH_SIZE - 1) // BATCH_SIZE\n",
    "\n",
    "# Loop over batches\n",
    "for batch_idx, i in enumerate(range(0, len(df), BATCH_SIZE), start=1):\n",
    "    batch_df = df.iloc[i:i + BATCH_SIZE].copy()\n",
    "    print(f\"Processing batch {batch_idx} of {num_batches}: rows {i} to {i + len(batch_df) - 1}\")\n",
    "\n",
    "    # Run duplicate detection on the batch\n",
    "    batch_duplicates = find_near_duplicates_parallel(batch_df, text_column=\"Normalized Text\")\n",
    "\n",
    "    # Append batch result\n",
    "    all_duplicates.append(batch_duplicates)\n",
    "\n",
    "# Combine all duplicates\n",
    "duplicates_df = pd.concat(all_duplicates, ignore_index=True)"
   ]
  },
  {
   "cell_type": "code",
   "execution_count": 7,
   "id": "a98841d3-97db-46a7-a507-42f0aae27857",
   "metadata": {},
   "outputs": [
    {
     "data": {
      "text/html": [
       "<div>\n",
       "<style scoped>\n",
       "    .dataframe tbody tr th:only-of-type {\n",
       "        vertical-align: middle;\n",
       "    }\n",
       "\n",
       "    .dataframe tbody tr th {\n",
       "        vertical-align: top;\n",
       "    }\n",
       "\n",
       "    .dataframe thead th {\n",
       "        text-align: right;\n",
       "    }\n",
       "</style>\n",
       "<table border=\"1\" class=\"dataframe\">\n",
       "  <thead>\n",
       "    <tr style=\"text-align: right;\">\n",
       "      <th></th>\n",
       "      <th>Index_1</th>\n",
       "      <th>Tweet_1</th>\n",
       "      <th>Index_2</th>\n",
       "      <th>Tweet_2</th>\n",
       "      <th>Approx_Jaccard</th>\n",
       "    </tr>\n",
       "  </thead>\n",
       "  <tbody>\n",
       "    <tr>\n",
       "      <th>0</th>\n",
       "      <td>0</td>\n",
       "      <td>in the \"i'm getting old\" department.., a kid saw this and said, \"oh, you 3d-printed the 'save' icon.\"</td>\n",
       "      <td>56627</td>\n",
       "      <td>in the “i’m getting old department....”, a kid saw this and said “oh you 3d printed the ‘ios settings’ icon.”</td>\n",
       "      <td>0.7</td>\n",
       "    </tr>\n",
       "    <tr>\n",
       "      <th>1</th>\n",
       "      <td>0</td>\n",
       "      <td>in the \"i'm getting old\" department.., a kid saw this and said, \"oh, you 3d-printed the 'save' icon.\"</td>\n",
       "      <td>91512</td>\n",
       "      <td>rt @bill_gross in the \"i'm getting old\" department.., a kid saw this and said, \"oh, you 3d-printed the 'save' icon.\"</td>\n",
       "      <td>0.7</td>\n",
       "    </tr>\n",
       "    <tr>\n",
       "      <th>2</th>\n",
       "      <td>3</td>\n",
       "      <td>the vagina is the original 3d printer</td>\n",
       "      <td>167</td>\n",
       "      <td>the uterus is the original 3d printer</td>\n",
       "      <td>0.7</td>\n",
       "    </tr>\n",
       "    <tr>\n",
       "      <th>3</th>\n",
       "      <td>3</td>\n",
       "      <td>the vagina is the original 3d printer</td>\n",
       "      <td>257</td>\n",
       "      <td>the uterus is the original 3d printer tbqh</td>\n",
       "      <td>0.7</td>\n",
       "    </tr>\n",
       "    <tr>\n",
       "      <th>4</th>\n",
       "      <td>3</td>\n",
       "      <td>the vagina is the original 3d printer</td>\n",
       "      <td>28954</td>\n",
       "      <td>the original 3d printer</td>\n",
       "      <td>0.7</td>\n",
       "    </tr>\n",
       "    <tr>\n",
       "      <th>...</th>\n",
       "      <td>...</td>\n",
       "      <td>...</td>\n",
       "      <td>...</td>\n",
       "      <td>...</td>\n",
       "      <td>...</td>\n",
       "    </tr>\n",
       "    <tr>\n",
       "      <th>11702292</th>\n",
       "      <td>3922021</td>\n",
       "      <td>customizable 3d printed tabletop miniatures by hero forge — kickstarter http:// 5252686/ ...</td>\n",
       "      <td>3922022</td>\n",
       "      <td>customizable 3d printed tabletop miniatures by hero forge — kickstarter http://</td>\n",
       "      <td>0.7</td>\n",
       "    </tr>\n",
       "    <tr>\n",
       "      <th>11702293</th>\n",
       "      <td>3922023</td>\n",
       "      <td>customizable 3d printed tabletop miniatures by hero forge — kickstarter hit stretch goal #5! we will http:// 5373707/ ...</td>\n",
       "      <td>3922024</td>\n",
       "      <td>customizable 3d printed tabletop miniatures by hero forge — kickstarter hit stretch goal #5! we will http:// 5373705/ ...</td>\n",
       "      <td>0.7</td>\n",
       "    </tr>\n",
       "    <tr>\n",
       "      <th>11702294</th>\n",
       "      <td>3922023</td>\n",
       "      <td>customizable 3d printed tabletop miniatures by hero forge — kickstarter hit stretch goal #5! we will http:// 5373707/ ...</td>\n",
       "      <td>3922025</td>\n",
       "      <td>customizable 3d printed tabletop miniatures by hero forge — kickstarter hit stretch goal #5! we will http:// 5373701/ ...</td>\n",
       "      <td>0.7</td>\n",
       "    </tr>\n",
       "    <tr>\n",
       "      <th>11702295</th>\n",
       "      <td>3922024</td>\n",
       "      <td>customizable 3d printed tabletop miniatures by hero forge — kickstarter hit stretch goal #5! we will http:// 5373705/ ...</td>\n",
       "      <td>3922025</td>\n",
       "      <td>customizable 3d printed tabletop miniatures by hero forge — kickstarter hit stretch goal #5! we will http:// 5373701/ ...</td>\n",
       "      <td>0.7</td>\n",
       "    </tr>\n",
       "    <tr>\n",
       "      <th>11702296</th>\n",
       "      <td>3922026</td>\n",
       "      <td>customizable 3d printed tabletop miniatures, via @kickstarter http:// orge/customizable-3d-printed-tabletop-miniatures ...</td>\n",
       "      <td>3922035</td>\n",
       "      <td>customizable 3d printed tabletop miniatures. hmmmm. http:// orge/customizable-3d-printed-tabletop-miniatures ...</td>\n",
       "      <td>0.7</td>\n",
       "    </tr>\n",
       "  </tbody>\n",
       "</table>\n",
       "<p>11702297 rows × 5 columns</p>\n",
       "</div>"
      ],
      "text/plain": [
       "          Index_1  \\\n",
       "0               0   \n",
       "1               0   \n",
       "2               3   \n",
       "3               3   \n",
       "4               3   \n",
       "...           ...   \n",
       "11702292  3922021   \n",
       "11702293  3922023   \n",
       "11702294  3922023   \n",
       "11702295  3922024   \n",
       "11702296  3922026   \n",
       "\n",
       "                                                                                                                             Tweet_1  \\\n",
       "0                              in the \"i'm getting old\" department.., a kid saw this and said, \"oh, you 3d-printed the 'save' icon.\"   \n",
       "1                              in the \"i'm getting old\" department.., a kid saw this and said, \"oh, you 3d-printed the 'save' icon.\"   \n",
       "2                                                                                              the vagina is the original 3d printer   \n",
       "3                                                                                              the vagina is the original 3d printer   \n",
       "4                                                                                              the vagina is the original 3d printer   \n",
       "...                                                                                                                              ...   \n",
       "11702292                                customizable 3d printed tabletop miniatures by hero forge — kickstarter http:// 5252686/ ...   \n",
       "11702293   customizable 3d printed tabletop miniatures by hero forge — kickstarter hit stretch goal #5! we will http:// 5373707/ ...   \n",
       "11702294   customizable 3d printed tabletop miniatures by hero forge — kickstarter hit stretch goal #5! we will http:// 5373707/ ...   \n",
       "11702295   customizable 3d printed tabletop miniatures by hero forge — kickstarter hit stretch goal #5! we will http:// 5373705/ ...   \n",
       "11702296  customizable 3d printed tabletop miniatures, via @kickstarter http:// orge/customizable-3d-printed-tabletop-miniatures ...   \n",
       "\n",
       "          Index_2  \\\n",
       "0           56627   \n",
       "1           91512   \n",
       "2             167   \n",
       "3             257   \n",
       "4           28954   \n",
       "...           ...   \n",
       "11702292  3922022   \n",
       "11702293  3922024   \n",
       "11702294  3922025   \n",
       "11702295  3922025   \n",
       "11702296  3922035   \n",
       "\n",
       "                                                                                                                            Tweet_2  \\\n",
       "0                     in the “i’m getting old department....”, a kid saw this and said “oh you 3d printed the ‘ios settings’ icon.”   \n",
       "1              rt @bill_gross in the \"i'm getting old\" department.., a kid saw this and said, \"oh, you 3d-printed the 'save' icon.\"   \n",
       "2                                                                                             the uterus is the original 3d printer   \n",
       "3                                                                                        the uterus is the original 3d printer tbqh   \n",
       "4                                                                                                           the original 3d printer   \n",
       "...                                                                                                                             ...   \n",
       "11702292                                            customizable 3d printed tabletop miniatures by hero forge — kickstarter http://   \n",
       "11702293  customizable 3d printed tabletop miniatures by hero forge — kickstarter hit stretch goal #5! we will http:// 5373705/ ...   \n",
       "11702294  customizable 3d printed tabletop miniatures by hero forge — kickstarter hit stretch goal #5! we will http:// 5373701/ ...   \n",
       "11702295  customizable 3d printed tabletop miniatures by hero forge — kickstarter hit stretch goal #5! we will http:// 5373701/ ...   \n",
       "11702296           customizable 3d printed tabletop miniatures. hmmmm. http:// orge/customizable-3d-printed-tabletop-miniatures ...   \n",
       "\n",
       "          Approx_Jaccard  \n",
       "0                    0.7  \n",
       "1                    0.7  \n",
       "2                    0.7  \n",
       "3                    0.7  \n",
       "4                    0.7  \n",
       "...                  ...  \n",
       "11702292             0.7  \n",
       "11702293             0.7  \n",
       "11702294             0.7  \n",
       "11702295             0.7  \n",
       "11702296             0.7  \n",
       "\n",
       "[11702297 rows x 5 columns]"
      ]
     },
     "execution_count": 7,
     "metadata": {},
     "output_type": "execute_result"
    }
   ],
   "source": [
    "duplicates_df"
   ]
  },
  {
   "cell_type": "markdown",
   "id": "de92ae5e-ccd7-4ccc-b4d4-400502ccb63b",
   "metadata": {},
   "source": [
    "## Visualize "
   ]
  },
  {
   "cell_type": "code",
   "execution_count": 6,
   "id": "1877f642-d7d1-4f9c-b2ff-138271e712e5",
   "metadata": {},
   "outputs": [],
   "source": [
    "#plot_simplified_duplicate_network(duplicates_df, save_path=\"near_duplicates_network.png\")"
   ]
  },
  {
   "cell_type": "code",
   "execution_count": 7,
   "id": "761ca2ea-576b-447e-b8be-746ba5d14f39",
   "metadata": {},
   "outputs": [],
   "source": [
    "#df"
   ]
  },
  {
   "cell_type": "code",
   "execution_count": 8,
   "id": "00c38183-2b6e-4bc5-a9fc-39d6c6849b6e",
   "metadata": {},
   "outputs": [
    {
     "data": {
      "text/html": [
       "<div>\n",
       "<style scoped>\n",
       "    .dataframe tbody tr th:only-of-type {\n",
       "        vertical-align: middle;\n",
       "    }\n",
       "\n",
       "    .dataframe tbody tr th {\n",
       "        vertical-align: top;\n",
       "    }\n",
       "\n",
       "    .dataframe thead th {\n",
       "        text-align: right;\n",
       "    }\n",
       "</style>\n",
       "<table border=\"1\" class=\"dataframe\">\n",
       "  <thead>\n",
       "    <tr style=\"text-align: right;\">\n",
       "      <th></th>\n",
       "      <th>Date</th>\n",
       "      <th>tweet_id</th>\n",
       "      <th>Normalized Text</th>\n",
       "    </tr>\n",
       "  </thead>\n",
       "  <tbody>\n",
       "    <tr>\n",
       "      <th>0</th>\n",
       "      <td>2017-10-17 21:48:10+00:00</td>\n",
       "      <td>@Bill_Gross_2017-10-17T21:48:10.000Z</td>\n",
       "      <td>in the \"i'm getting old\" department.., a kid saw this and said, \"oh, you 3d-printed the 'save' icon.\"</td>\n",
       "    </tr>\n",
       "    <tr>\n",
       "      <th>59953</th>\n",
       "      <td>2022-11-15 10:47:44+00:00</td>\n",
       "      <td>@joeltelling_2022-11-15T10:47:44.000Z</td>\n",
       "      <td>surprise! new video from @formnext_expo - this is just debuted and i rode it! cc: @stratasys bicycle of the future?</td>\n",
       "    </tr>\n",
       "  </tbody>\n",
       "</table>\n",
       "</div>"
      ],
      "text/plain": [
       "                            Date                               tweet_id  \\\n",
       "0      2017-10-17 21:48:10+00:00   @Bill_Gross_2017-10-17T21:48:10.000Z   \n",
       "59953  2022-11-15 10:47:44+00:00  @joeltelling_2022-11-15T10:47:44.000Z   \n",
       "\n",
       "                                                                                                           Normalized Text  \n",
       "0                    in the \"i'm getting old\" department.., a kid saw this and said, \"oh, you 3d-printed the 'save' icon.\"  \n",
       "59953  surprise! new video from @formnext_expo - this is just debuted and i rode it! cc: @stratasys bicycle of the future?  "
      ]
     },
     "execution_count": 8,
     "metadata": {},
     "output_type": "execute_result"
    }
   ],
   "source": [
    "idx_list = [0, 59953]\n",
    "cols = ['Date', 'tweet_id', 'Normalized Text']\n",
    "\n",
    "filtered_df = df.loc[idx_list, cols]\n",
    "filtered_df"
   ]
  },
  {
   "cell_type": "code",
   "execution_count": 9,
   "id": "9f82baa5-f2b1-4e94-8355-351c323b1f11",
   "metadata": {},
   "outputs": [
    {
     "name": "stdout",
     "output_type": "stream",
     "text": [
      "'the vagina is the original 3d printer'\n"
     ]
    }
   ],
   "source": [
    "print(repr(df.loc[3, 'Normalized Text']))"
   ]
  },
  {
   "cell_type": "markdown",
   "id": "b6a578fb-ea7b-415b-b22e-3ed927facb14",
   "metadata": {},
   "source": [
    "## Writeout to CSV"
   ]
  },
  {
   "cell_type": "code",
   "execution_count": 10,
   "id": "796327cc-f358-485b-8343-6195afbd67a3",
   "metadata": {},
   "outputs": [],
   "source": [
    "duplicates_df.to_csv(\"near_duplicates.csv\", index=False)"
   ]
  },
  {
   "cell_type": "markdown",
   "id": "33effd31-a050-404d-ac29-dd3b2ac10fc7",
   "metadata": {},
   "source": [
    "### Drop the Near-duplicates"
   ]
  },
  {
   "cell_type": "code",
   "execution_count": 10,
   "id": "8339e07a-41b5-4593-8589-a4275bf90537",
   "metadata": {},
   "outputs": [
    {
     "name": "stdout",
     "output_type": "stream",
     "text": [
      "Found 267312 groups of near-duplicates\n",
      "Removing 1086279 duplicates\n"
     ]
    },
    {
     "data": {
      "text/html": [
       "<div>\n",
       "<style scoped>\n",
       "    .dataframe tbody tr th:only-of-type {\n",
       "        vertical-align: middle;\n",
       "    }\n",
       "\n",
       "    .dataframe tbody tr th {\n",
       "        vertical-align: top;\n",
       "    }\n",
       "\n",
       "    .dataframe thead th {\n",
       "        text-align: right;\n",
       "    }\n",
       "</style>\n",
       "<table border=\"1\" class=\"dataframe\">\n",
       "  <thead>\n",
       "    <tr style=\"text-align: right;\">\n",
       "      <th></th>\n",
       "      <th>Author ID</th>\n",
       "      <th>Total Engagement</th>\n",
       "      <th>Date</th>\n",
       "      <th>tweet_id</th>\n",
       "      <th>row_num</th>\n",
       "      <th>Normalized Text</th>\n",
       "      <th>langdetect_is_english</th>\n",
       "    </tr>\n",
       "  </thead>\n",
       "  <tbody>\n",
       "    <tr>\n",
       "      <th>0</th>\n",
       "      <td>@Bill_Gross</td>\n",
       "      <td>439944</td>\n",
       "      <td>2017-10-17 21:48:10+00:00</td>\n",
       "      <td>@Bill_Gross_2017-10-17T21:48:10.000Z</td>\n",
       "      <td>1399480</td>\n",
       "      <td>in the \"i'm getting old\" department.., a kid saw this and said, \"oh, you 3d-printed the 'save' icon.\"</td>\n",
       "      <td>True</td>\n",
       "    </tr>\n",
       "    <tr>\n",
       "      <th>1</th>\n",
       "      <td>@rustbeltlady</td>\n",
       "      <td>383384</td>\n",
       "      <td>2019-03-08 04:41:13+00:00</td>\n",
       "      <td>@rustbeltlady_2019-03-08T04:41:13.000Z</td>\n",
       "      <td>2703961</td>\n",
       "      <td>who gave my little brother a 3d printer</td>\n",
       "      <td>True</td>\n",
       "    </tr>\n",
       "    <tr>\n",
       "      <th>2</th>\n",
       "      <td>@McJesse</td>\n",
       "      <td>348608</td>\n",
       "      <td>2021-12-31 00:34:14+00:00</td>\n",
       "      <td>@McJesse_2021-12-31T00:34:14.000Z</td>\n",
       "      <td>2887953</td>\n",
       "      <td>got a 3d printer for christmas, realized i can use it to print any new year’s glasses i want.</td>\n",
       "      <td>True</td>\n",
       "    </tr>\n",
       "    <tr>\n",
       "      <th>3</th>\n",
       "      <td>@olivelorraine_</td>\n",
       "      <td>283017</td>\n",
       "      <td>2021-08-15 20:47:32+00:00</td>\n",
       "      <td>@olivelorraine__2021-08-15T20:47:32.000Z</td>\n",
       "      <td>2963114</td>\n",
       "      <td>the vagina is the original 3d printer</td>\n",
       "      <td>True</td>\n",
       "    </tr>\n",
       "    <tr>\n",
       "      <th>4</th>\n",
       "      <td>@rveenewman</td>\n",
       "      <td>213595</td>\n",
       "      <td>2019-01-09 13:25:07+00:00</td>\n",
       "      <td>@rveenewman_2019-01-09T13:25:07.000Z</td>\n",
       "      <td>2447524</td>\n",
       "      <td>a 3d printed light projected animation. proof that there's always new ways to animate everything. #3dprint #animation</td>\n",
       "      <td>True</td>\n",
       "    </tr>\n",
       "    <tr>\n",
       "      <th>...</th>\n",
       "      <td>...</td>\n",
       "      <td>...</td>\n",
       "      <td>...</td>\n",
       "      <td>...</td>\n",
       "      <td>...</td>\n",
       "      <td>...</td>\n",
       "      <td>...</td>\n",
       "    </tr>\n",
       "    <tr>\n",
       "      <th>3922032</th>\n",
       "      <td>@_MichaelShell</td>\n",
       "      <td>0</td>\n",
       "      <td>2013-05-27 22:31:17+00:00</td>\n",
       "      <td>@_MichaelShell_2013-05-27T22:31:17.000Z</td>\n",
       "      <td>5827476</td>\n",
       "      <td>customizable 3d printer that is easy to use and affordable for all. 3d print almost any object. there are no limits! http:// 50769/rigidbot-3d-printer ...</td>\n",
       "      <td>True</td>\n",
       "    </tr>\n",
       "    <tr>\n",
       "      <th>3922033</th>\n",
       "      <td>@BramKnaapen</td>\n",
       "      <td>0</td>\n",
       "      <td>2013-11-03 21:51:10+00:00</td>\n",
       "      <td>@BramKnaapen_2013-11-03T21:51:10.000Z</td>\n",
       "      <td>5849490</td>\n",
       "      <td>customizable 3d printed titanium glasses that look good; 3d printing is moving beyond gadgetry : http://</td>\n",
       "      <td>True</td>\n",
       "    </tr>\n",
       "    <tr>\n",
       "      <th>3922034</th>\n",
       "      <td>@SybilCollas</td>\n",
       "      <td>0</td>\n",
       "      <td>2014-01-17 15:31:11+00:00</td>\n",
       "      <td>@SybilCollas_2014-01-17T15:31:11.000Z</td>\n",
       "      <td>5178014</td>\n",
       "      <td>customizable 3d printed tabletop miniatures. oh money, where are you when i need you so? http:// via @kickstarter</td>\n",
       "      <td>True</td>\n",
       "    </tr>\n",
       "    <tr>\n",
       "      <th>3922036</th>\n",
       "      <td>@SethRichard</td>\n",
       "      <td>0</td>\n",
       "      <td>2014-02-16 05:21:51+00:00</td>\n",
       "      <td>@SethRichard_2014-02-16T05:21:51.000Z</td>\n",
       "      <td>5550420</td>\n",
       "      <td>customizable 3d printed tabletop miniatures, via @kickstarter only 46 hours left to back it https:// orge/customizable-3d-printed-tabletop-miniatures ...</td>\n",
       "      <td>True</td>\n",
       "    </tr>\n",
       "    <tr>\n",
       "      <th>3922037</th>\n",
       "      <td>@CHANGEBE</td>\n",
       "      <td>0</td>\n",
       "      <td>2016-05-30 17:01:00+00:00</td>\n",
       "      <td>@CHANGEBE_2016-05-30T17:01:00.000Z</td>\n",
       "      <td>1768900</td>\n",
       "      <td>󾮞 injured tortoise receives world’s first 3d printed shell when freddy the tortoise was caught in a bush fire in... http://</td>\n",
       "      <td>True</td>\n",
       "    </tr>\n",
       "  </tbody>\n",
       "</table>\n",
       "<p>2835759 rows × 7 columns</p>\n",
       "</div>"
      ],
      "text/plain": [
       "               Author ID  Total Engagement                       Date  \\\n",
       "0            @Bill_Gross            439944  2017-10-17 21:48:10+00:00   \n",
       "1          @rustbeltlady            383384  2019-03-08 04:41:13+00:00   \n",
       "2               @McJesse            348608  2021-12-31 00:34:14+00:00   \n",
       "3        @olivelorraine_            283017  2021-08-15 20:47:32+00:00   \n",
       "4            @rveenewman            213595  2019-01-09 13:25:07+00:00   \n",
       "...                  ...               ...                        ...   \n",
       "3922032   @_MichaelShell                 0  2013-05-27 22:31:17+00:00   \n",
       "3922033     @BramKnaapen                 0  2013-11-03 21:51:10+00:00   \n",
       "3922034     @SybilCollas                 0  2014-01-17 15:31:11+00:00   \n",
       "3922036     @SethRichard                 0  2014-02-16 05:21:51+00:00   \n",
       "3922037        @CHANGEBE                 0  2016-05-30 17:01:00+00:00   \n",
       "\n",
       "                                         tweet_id  row_num  \\\n",
       "0            @Bill_Gross_2017-10-17T21:48:10.000Z  1399480   \n",
       "1          @rustbeltlady_2019-03-08T04:41:13.000Z  2703961   \n",
       "2               @McJesse_2021-12-31T00:34:14.000Z  2887953   \n",
       "3        @olivelorraine__2021-08-15T20:47:32.000Z  2963114   \n",
       "4            @rveenewman_2019-01-09T13:25:07.000Z  2447524   \n",
       "...                                           ...      ...   \n",
       "3922032   @_MichaelShell_2013-05-27T22:31:17.000Z  5827476   \n",
       "3922033     @BramKnaapen_2013-11-03T21:51:10.000Z  5849490   \n",
       "3922034     @SybilCollas_2014-01-17T15:31:11.000Z  5178014   \n",
       "3922036     @SethRichard_2014-02-16T05:21:51.000Z  5550420   \n",
       "3922037        @CHANGEBE_2016-05-30T17:01:00.000Z  1768900   \n",
       "\n",
       "                                                                                                                                                    Normalized Text  \\\n",
       "0                                                             in the \"i'm getting old\" department.., a kid saw this and said, \"oh, you 3d-printed the 'save' icon.\"   \n",
       "1                                                                                                                           who gave my little brother a 3d printer   \n",
       "2                                                                     got a 3d printer for christmas, realized i can use it to print any new year’s glasses i want.   \n",
       "3                                                                                                                             the vagina is the original 3d printer   \n",
       "4                                             a 3d printed light projected animation. proof that there's always new ways to animate everything. #3dprint #animation   \n",
       "...                                                                                                                                                             ...   \n",
       "3922032  customizable 3d printer that is easy to use and affordable for all. 3d print almost any object. there are no limits! http:// 50769/rigidbot-3d-printer ...   \n",
       "3922033                                                    customizable 3d printed titanium glasses that look good; 3d printing is moving beyond gadgetry : http://   \n",
       "3922034                                           customizable 3d printed tabletop miniatures. oh money, where are you when i need you so? http:// via @kickstarter   \n",
       "3922036   customizable 3d printed tabletop miniatures, via @kickstarter only 46 hours left to back it https:// orge/customizable-3d-printed-tabletop-miniatures ...   \n",
       "3922037                                 󾮞 injured tortoise receives world’s first 3d printed shell when freddy the tortoise was caught in a bush fire in... http://   \n",
       "\n",
       "         langdetect_is_english  \n",
       "0                         True  \n",
       "1                         True  \n",
       "2                         True  \n",
       "3                         True  \n",
       "4                         True  \n",
       "...                        ...  \n",
       "3922032                   True  \n",
       "3922033                   True  \n",
       "3922034                   True  \n",
       "3922036                   True  \n",
       "3922037                   True  \n",
       "\n",
       "[2835759 rows x 7 columns]"
      ]
     },
     "execution_count": 10,
     "metadata": {},
     "output_type": "execute_result"
    }
   ],
   "source": [
    "df_final = remove_duplicates_keep_highest_engagement(df, duplicates_df, engagement_column=\"Total Engagement\")\n",
    "df_final"
   ]
  },
  {
   "cell_type": "code",
   "execution_count": 11,
   "id": "94a57e07-a0df-442a-b033-aee139a26973",
   "metadata": {},
   "outputs": [],
   "source": [
    "# remove all remnants of urls\n",
    "df_final['Normalized Text'] = (\n",
    "    df_final['Normalized Text']\n",
    "      .str.replace('http://',  '', regex=False)\n",
    "      .str.replace('https://', '', regex=False)\n",
    "      .str.replace('.html',    '', regex=False)\n",
    ")"
   ]
  },
  {
   "cell_type": "code",
   "execution_count": 12,
   "id": "f45af45b-6c7e-4d64-8d49-b0486372e328",
   "metadata": {},
   "outputs": [],
   "source": [
    "from datetime import datetime\n",
    "\n",
    "now = datetime.now().strftime(\"%Y%m%d_%H%M%S\")\n",
    "\n",
    "filename = f\"CLEANED_DATASET_{now}.csv\"\n",
    "\n",
    "df_final.to_csv(filename, index=False)"
   ]
  },
  {
   "cell_type": "code",
   "execution_count": null,
   "id": "30fc11c2-89a9-4574-93dd-7860418ccc9d",
   "metadata": {},
   "outputs": [],
   "source": []
  },
  {
   "cell_type": "code",
   "execution_count": null,
   "id": "fb1c2d32-0e59-48c6-b6e1-2b8248257df0",
   "metadata": {},
   "outputs": [],
   "source": []
  }
 ],
 "metadata": {
  "kernelspec": {
   "display_name": "Python 3 (ipykernel)",
   "language": "python",
   "name": "python3"
  },
  "language_info": {
   "codemirror_mode": {
    "name": "ipython",
    "version": 3
   },
   "file_extension": ".py",
   "mimetype": "text/x-python",
   "name": "python",
   "nbconvert_exporter": "python",
   "pygments_lexer": "ipython3",
   "version": "3.12.3"
  }
 },
 "nbformat": 4,
 "nbformat_minor": 5
}
