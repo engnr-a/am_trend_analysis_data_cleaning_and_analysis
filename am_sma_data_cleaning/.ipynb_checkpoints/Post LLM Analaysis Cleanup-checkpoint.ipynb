{
 "cells": [
  {
   "cell_type": "markdown",
   "id": "e7c8df61-222e-4f6d-89b6-c68061e4c1f1",
   "metadata": {},
   "source": [
    "## Analysis"
   ]
  }
 ],
 "metadata": {
  "kernelspec": {
   "display_name": "am_sma_data_cleaning",
   "language": "python",
   "name": "am_sma_data_cleaning"
  },
  "language_info": {
   "codemirror_mode": {
    "name": "ipython",
    "version": 3
   },
   "file_extension": ".py",
   "mimetype": "text/x-python",
   "name": "python",
   "nbconvert_exporter": "python",
   "pygments_lexer": "ipython3",
   "version": "3.12.3"
  }
 },
 "nbformat": 4,
 "nbformat_minor": 5
}
